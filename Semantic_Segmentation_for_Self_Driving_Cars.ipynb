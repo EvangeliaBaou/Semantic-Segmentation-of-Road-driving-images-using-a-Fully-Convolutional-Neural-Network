{
  "nbformat": 4,
  "nbformat_minor": 0,
  "metadata": {
    "accelerator": "GPU",
    "colab": {
      "name": "Semantic Segmentation for Self Driving Cars.ipynb",
      "provenance": [],
      "collapsed_sections": [],
      "toc_visible": true,
      "machine_shape": "hm"
    },
    "kernelspec": {
      "display_name": "Python 3",
      "name": "python3"
    },
    "language_info": {
      "name": "python"
    }
  },
  "cells": [
    {
      "cell_type": "markdown",
      "metadata": {
        "id": "YXVNzlDs-eG3"
      },
      "source": [
        "#Fully Convolutional Neural Networks for Image Segmentation\n",
        "\n",
        "This notebook illustrates how to build a Fully Convolutional Neural Network for semantic image segmentation."
      ]
    },
    {
      "cell_type": "markdown",
      "metadata": {
        "id": "O8EDtBq0-yqR"
      },
      "source": [
        "# Imports"
      ]
    },
    {
      "cell_type": "code",
      "metadata": {
        "id": "k5oa2Gdh-wxd"
      },
      "source": [
        "import os\n",
        "import zipfile\n",
        "import PIL.Image, PIL.ImageFont, PIL.ImageDraw\n",
        "import numpy as np\n",
        "\n",
        "try:\n",
        "  # %tensorflow_version only exists in Colab.\n",
        "  %tensorflow_version 2.x\n",
        "except Exception:\n",
        "  pass\n",
        "\n",
        "import tensorflow as tf\n",
        "from matplotlib import pyplot as plt\n",
        "import tensorflow_datasets as tfds\n",
        "import seaborn as sns\n",
        "from keras.callbacks import EarlyStopping"
      ],
      "execution_count": 2,
      "outputs": []
    },
    {
      "cell_type": "markdown",
      "metadata": {
        "id": "XZtIDGnrGgtR"
      },
      "source": [
        "# Download the Dataset"
      ]
    },
    {
      "cell_type": "markdown",
      "metadata": {
        "id": "DVtlizSLGmeY"
      },
      "source": [
        "The dataset is hosted in a Google bucket so you will need to download it first and unzip to a local directory."
      ]
    },
    {
      "cell_type": "code",
      "metadata": {
        "id": "vM3CFGCuGqtp",
        "colab": {
          "base_uri": "https://localhost:8080/"
        },
        "outputId": "a8e2be6e-2f84-4ec6-821b-7eb677ae6137"
      },
      "source": [
        "# download the dataset (zipped file)\n",
        "!wget --no-check-certificate \\\n",
        "    https://storage.googleapis.com/semantic_segmentation_for_self_driving_cars_dataset/Semantic_Segmentation_dl.zip \\\n",
        "    -O /tmp/Semantic_Segmentation_dl.zip\n",
        "\n",
        "# extract the downloaded dataset to a local directory: /tmp/Semantic_Segmentation\n",
        "local_zip = '/tmp/Semantic_Segmentation_dl.zip'\n",
        "zip_ref = zipfile.ZipFile(local_zip, 'r')\n",
        "zip_ref.extractall('/tmp/Semantic_Segmentation')\n",
        "zip_ref.close()"
      ],
      "execution_count": 3,
      "outputs": [
        {
          "output_type": "stream",
          "text": [
            "--2021-07-04 16:59:51--  https://storage.googleapis.com/semantic_segmentation_for_self_driving_cars_dataset/Semantic_Segmentation_dl.zip\n",
            "Resolving storage.googleapis.com (storage.googleapis.com)... 173.194.215.128, 173.194.216.128, 173.194.217.128, ...\n",
            "Connecting to storage.googleapis.com (storage.googleapis.com)|173.194.215.128|:443... connected.\n",
            "HTTP request sent, awaiting response... 200 OK\n",
            "Length: 547791422 (522M) [application/x-zip-compressed]\n",
            "Saving to: ‘/tmp/Semantic_Segmentation_dl.zip’\n",
            "\n",
            "/tmp/Semantic_Segme 100%[===================>] 522.41M   166MB/s    in 3.1s    \n",
            "\n",
            "2021-07-04 16:59:54 (166 MB/s) - ‘/tmp/Semantic_Segmentation_dl.zip’ saved [547791422/547791422]\n",
            "\n"
          ],
          "name": "stdout"
        }
      ]
    },
    {
      "cell_type": "code",
      "metadata": {
        "id": "xTZhQTxkjiA2"
      },
      "source": [
        "'''\n",
        "create a list containing the class names\n",
        "'''\n",
        "class_names = ['Unlabeled', 'Building','Fence', 'Other', 'Pedestrian', 'Pole', 'RoadLine', 'Road', 'SideWalk', 'Vegetation', 'Vehicles', 'Wall','TrafficSign','Sky','Ground','Bridge','RailTrack','GuardRail','TrafficLight','Static','Dynamic','Water','Terrain']"
      ],
      "execution_count": 4,
      "outputs": []
    },
    {
      "cell_type": "markdown",
      "metadata": {
        "id": "NnTygEu7lg-d"
      },
      "source": [
        "# Load and Prepare the Dataset"
      ]
    },
    {
      "cell_type": "code",
      "metadata": {
        "id": "RXj7CpknuuEI"
      },
      "source": [
        "def map_filename_to_image_and_mask(t_filename, a_filename, height=224, width=224):\n",
        "  '''\n",
        "  Preprocesses the dataset by:\n",
        "    * resizing the input image and label maps\n",
        "    * normalizing the input image pixels\n",
        "    * reshaping the label maps from (height, width, 1) to (height, width, 22)\n",
        "\n",
        "  Args:\n",
        "    t_filename (string) -- path to the raw input image\n",
        "    a_filename (string) -- path to the raw annotation (label map) file\n",
        "    height (int) -- height in pixels to resize to\n",
        "    width (int) -- width in pixels to resize to\n",
        "\n",
        "  Returns:\n",
        "    image (tensor) -- preprocessed image\n",
        "    annotation (tensor) -- preprocessed annotation\n",
        "  '''\n",
        "\n",
        "  # Convert image and mask files to tensors \n",
        "  img_raw = tf.io.read_file(t_filename)\n",
        "  anno_raw = tf.io.read_file(a_filename)\n",
        "  image = tf.image.decode_png(img_raw) #Decode a PNG-encoded image to a uint8 or uint16 tensor.\n",
        "  annotation = tf.image.decode_png(anno_raw)\n",
        " \n",
        "  # Resize image and segmentation mask\n",
        "  image = tf.image.resize(image, (height, width,))\n",
        "  annotation = tf.image.resize(annotation, (height, width,))\n",
        "  image = tf.reshape(image, (height, width, 3,))\n",
        "  annotation = tf.cast(annotation, dtype=tf.int32)\n",
        "  annotation = tf.reshape(annotation, (height, width, 1,))\n",
        "  stack_list = []\n",
        "\n",
        "  # Reshape segmentation masks\n",
        "  for c in range(len(class_names)):\n",
        "    mask = tf.equal(annotation[:,:,0], tf.constant(c))\n",
        "    stack_list.append(tf.cast(mask, dtype=tf.int32))\n",
        "  \n",
        "  annotation = tf.stack(stack_list, axis=2)\n",
        "\n",
        "  # Normalize pixels in the input image\n",
        "  image = image/127.5\n",
        "  image -= 1\n",
        "\n",
        "  return image, annotation"
      ],
      "execution_count": 5,
      "outputs": []
    },
    {
      "cell_type": "markdown",
      "metadata": {
        "id": "oyuVthxFPUgq"
      },
      "source": [
        "The following functions are used to create the tensorflow datasets from the images in these folders. Notice that before creating the batches in the `get_training_dataset()` and `get_validation_set()`, the images are first preprocessed using the `map_filename_to_image_and_mask()` function."
      ]
    },
    {
      "cell_type": "markdown",
      "metadata": {
        "id": "n41Xnkt08cbC"
      },
      "source": [
        "### Utilities for preparing the datasets"
      ]
    },
    {
      "cell_type": "markdown",
      "metadata": {
        "id": "b3bdbtl88i4P"
      },
      "source": [
        "#### get_dataset_slice_paths"
      ]
    },
    {
      "cell_type": "code",
      "metadata": {
        "id": "W85U8meA8mpc"
      },
      "source": [
        "BATCH_SIZE = 64\n",
        "\n",
        "def get_dataset_slice_paths(image_dir, label_map_dir):\n",
        "  '''\n",
        "  generates the lists of image and label map paths\n",
        "  \n",
        "  Args:\n",
        "    image_dir (string) -- path to the input images directory\n",
        "    label_map_dir (string) -- path to the label map directory\n",
        "\n",
        "  Returns:\n",
        "    image_paths (list of strings) -- paths to each image file\n",
        "    label_map_paths (list of strings) -- paths to each label map\n",
        "  '''\n",
        "  image_file_list = os.listdir(image_dir)\n",
        "  label_map_file_list = os.listdir(label_map_dir)\n",
        "  image_paths = [os.path.join(image_dir, fname) for fname in image_file_list]\n",
        "  label_map_paths = [os.path.join(label_map_dir, fname) for fname in label_map_file_list]\n",
        "\n",
        "  return image_paths, label_map_paths"
      ],
      "execution_count": 6,
      "outputs": []
    },
    {
      "cell_type": "markdown",
      "metadata": {
        "id": "hR7s52_u8o44"
      },
      "source": [
        "#### get_training_dataset"
      ]
    },
    {
      "cell_type": "code",
      "metadata": {
        "id": "lMD51mcm8rdm"
      },
      "source": [
        "def get_training_dataset(image_paths, label_map_paths):\n",
        "  '''\n",
        "  Prepares shuffled batches of the training set.\n",
        "  \n",
        "  Args:\n",
        "    image_paths (list of strings) -- paths to each image file in the train set\n",
        "    label_map_paths (list of strings) -- paths to each label map in the train set\n",
        "\n",
        "  Returns:\n",
        "    tf Dataset containing the preprocessed train set\n",
        "  '''\n",
        "  training_dataset = tf.data.Dataset.from_tensor_slices((image_paths, label_map_paths))\n",
        "  training_dataset = training_dataset.map(map_filename_to_image_and_mask)\n",
        "  training_dataset = training_dataset.shuffle(200, reshuffle_each_iteration=True)\n",
        "  training_dataset = training_dataset.batch(BATCH_SIZE)\n",
        "  training_dataset = training_dataset.repeat()\n",
        "  training_dataset = training_dataset.prefetch(-1)\n",
        "\n",
        "  return training_dataset"
      ],
      "execution_count": 7,
      "outputs": []
    },
    {
      "cell_type": "markdown",
      "metadata": {
        "id": "RO4yIk948t5o"
      },
      "source": [
        "#### get_validation_dataset"
      ]
    },
    {
      "cell_type": "code",
      "metadata": {
        "id": "ShXLL9X38vNG"
      },
      "source": [
        "def get_validation_dataset(image_paths, label_map_paths):\n",
        "  '''\n",
        "  Prepares batches of the validation set.\n",
        "  \n",
        "  Args:\n",
        "    image_paths (list of strings) -- paths to each image file in the val set\n",
        "    label_map_paths (list of strings) -- paths to each label map in the val set\n",
        "\n",
        "  Returns:\n",
        "    tf Dataset containing the preprocessed validation set\n",
        "  '''\n",
        "  validation_dataset = tf.data.Dataset.from_tensor_slices((image_paths, label_map_paths))\n",
        "  validation_dataset = validation_dataset.map(map_filename_to_image_and_mask)\n",
        "  validation_dataset = validation_dataset.batch(BATCH_SIZE)\n",
        "  validation_dataset = validation_dataset.repeat()  \n",
        "\n",
        "  return validation_dataset"
      ],
      "execution_count": 8,
      "outputs": []
    },
    {
      "cell_type": "code",
      "metadata": {
        "colab": {
          "base_uri": "https://localhost:8080/"
        },
        "id": "3T2YkymDRIDB",
        "outputId": "36768f99-f67d-434a-aab6-fcac860e8da7"
      },
      "source": [
        "# show folders inside the dataset\n",
        "!ls /tmp/Semantic_Segmentation/Semantic_Segmentation_dl/dataset/"
      ],
      "execution_count": 9,
      "outputs": [
        {
          "output_type": "stream",
          "text": [
            "annotations_test  annotations_train  images_test  images_train\n"
          ],
          "name": "stdout"
        }
      ]
    },
    {
      "cell_type": "markdown",
      "metadata": {
        "id": "lAeK7beyRBNA"
      },
      "source": [
        "## Generate the training and validation sets"
      ]
    },
    {
      "cell_type": "code",
      "metadata": {
        "id": "ouv73Xh6RDOO"
      },
      "source": [
        "# get the paths to the images\n",
        "training_image_paths, training_label_map_paths = get_dataset_slice_paths('/tmp/Semantic_Segmentation/Semantic_Segmentation_dl/dataset/images_train/','/tmp/Semantic_Segmentation/Semantic_Segmentation_dl/dataset/annotations_train/')\n",
        "validation_image_paths, validation_label_map_paths = get_dataset_slice_paths('/tmp/Semantic_Segmentation/Semantic_Segmentation_dl/dataset/images_test/','/tmp/Semantic_Segmentation/Semantic_Segmentation_dl/dataset/annotations_test/')\n",
        "\n",
        "# generate the train and val sets\n",
        "training_dataset = get_training_dataset(training_image_paths, training_label_map_paths)\n",
        "validation_dataset = get_validation_dataset(validation_image_paths, validation_label_map_paths)"
      ],
      "execution_count": 10,
      "outputs": []
    },
    {
      "cell_type": "markdown",
      "metadata": {
        "id": "P-KRtj1cSO07"
      },
      "source": [
        "# Let's Take a Look at the Dataset"
      ]
    },
    {
      "cell_type": "markdown",
      "metadata": {
        "id": "wtYhgBZiSXcq"
      },
      "source": [
        "Some utilities are used in roder to visualize the dataset and the model predictions later. First, a color mapping is assigned to the classes in the label maps. Since our dataset has 23 classes, you need to have a list of 23 colors. We can use the [color_palette()](https://seaborn.pydata.org/generated/seaborn.color_palette.html) from Seaborn to generate this."
      ]
    },
    {
      "cell_type": "code",
      "metadata": {
        "id": "8KtqgyfbSYa8"
      },
      "source": [
        "# generate a list that contains one color for each class\n",
        "colors = sns.color_palette(None, len(class_names))\n",
        "\n",
        "# print class name - normalized RGB tuple pairs\n",
        "# the tuple values will be multiplied by 255 in the helper functions later\n",
        "# to convert to the (0,0,0) to (255,255,255) RGB values you might be familiar with\n",
        "for class_name, color in zip(class_names, colors):\n",
        "  print(f'{class_name} -- {color}')"
      ],
      "execution_count": null,
      "outputs": []
    },
    {
      "cell_type": "markdown",
      "metadata": {
        "id": "yO8qxhq27m6N"
      },
      "source": [
        "## Visualization Utilities"
      ]
    },
    {
      "cell_type": "markdown",
      "metadata": {
        "id": "nsJZW1u676Mb"
      },
      "source": [
        "### give_color_to_annotation "
      ]
    },
    {
      "cell_type": "code",
      "metadata": {
        "id": "1urTkgQB79FS"
      },
      "source": [
        "def give_color_to_annotation(annotation):\n",
        "  '''\n",
        "  Converts a 2-D annotation to a numpy array with shape (height, width, 3) where\n",
        "  the third axis represents the color channel. The label values are multiplied by\n",
        "  255 and placed in this axis to give color to the annotation\n",
        "\n",
        "  Args:\n",
        "    annotation (numpy array) - label map array\n",
        "  \n",
        "  Returns:\n",
        "    the annotation array with an additional color channel/axis\n",
        "  '''\n",
        "  seg_img = np.zeros( (annotation.shape[0],annotation.shape[1], 3) ).astype('float')\n",
        "  \n",
        "  for c in range(len(class_names)):\n",
        "    segc = (annotation == c)\n",
        "    seg_img[:,:,0] += segc*( colors[c][0] * 255.0)\n",
        "    seg_img[:,:,1] += segc*( colors[c][1] * 255.0)\n",
        "    seg_img[:,:,2] += segc*( colors[c][2] * 255.0)\n",
        "  \n",
        "  return seg_img"
      ],
      "execution_count": 12,
      "outputs": []
    },
    {
      "cell_type": "markdown",
      "metadata": {
        "id": "o71zGPxF8Bcc"
      },
      "source": [
        "### show_predictions"
      ]
    },
    {
      "cell_type": "code",
      "metadata": {
        "id": "fql3mCk38GbT"
      },
      "source": [
        "def show_predictions(image, labelmaps, titles, iou_list, dice_score_list):\n",
        "  '''\n",
        "  Displays the images with the ground truth and predicted label maps\n",
        "\n",
        "  Args:\n",
        "    image (numpy array) -- the input image\n",
        "    labelmaps (list of arrays) -- contains the predicted and ground truth label maps\n",
        "    titles (list of strings) -- display headings for the images to be displayed\n",
        "    iou_list (list of floats) -- the IOU values for each class\n",
        "    dice_score_list (list of floats) -- the Dice Score for each class\n",
        "  '''\n",
        "  pred_img = give_color_to_annotation(labelmaps[0])\n",
        "  true_img = give_color_to_annotation(labelmaps[1])\n",
        "\n",
        "  image = image + 1\n",
        "  image = image * 127.5\n",
        "  images = np.uint8([image, pred_img, true_img])\n",
        "\n",
        "  plt.figure(figsize=(15, 4))\n",
        "\n",
        "  for idx, im in enumerate(images):\n",
        "    plt.subplot(1, 3, idx+1)\n",
        "    plt.xticks([])\n",
        "    plt.yticks([])\n",
        "    plt.title(titles[idx], fontsize=12)\n",
        "    plt.imshow(im)\n"
      ],
      "execution_count": 13,
      "outputs": []
    },
    {
      "cell_type": "markdown",
      "metadata": {
        "id": "vGU3So9STDGx"
      },
      "source": [
        "# Define the Model\n",
        "\n",
        "AS mentioned earlier, a VGG-16 network will be used for the encoder and FCN-8 for the decoder. This is the diagram of the model's architecture:\n",
        "\n",
        "<img src='https://drive.google.com/uc?export=view&id=1lrqB4YegV8jXWNfyYAaeuFlwXIc54aRP' alt='fcn-8'>"
      ]
    },
    {
      "cell_type": "markdown",
      "metadata": {
        "id": "wYb5F7I_lXVZ"
      },
      "source": [
        "### Define Pooling Block of VGG"
      ]
    },
    {
      "cell_type": "code",
      "metadata": {
        "id": "-ADmOwRelYqB"
      },
      "source": [
        "def block(x, n_convs, filters, kernel_size, activation, pool_size, pool_stride, block_name):\n",
        "  '''\n",
        "  Defines a block in the VGG network.\n",
        "\n",
        "  Args:\n",
        "    x (tensor) -- input image\n",
        "    n_convs (int) -- number of convolution layers to append\n",
        "    filters (int) -- number of filters for the convolution layers\n",
        "    activation (string or object) -- activation to use in the convolution\n",
        "    pool_size (int) -- size of the pooling layer\n",
        "    pool_stried (int) -- stride of the pooling layer\n",
        "    block_name (string) -- name of the block\n",
        "\n",
        "  Returns:\n",
        "    tensor containing the max-pooled output of the convolutions\n",
        "  '''\n",
        "\n",
        "  for i in range(n_convs):\n",
        "      x = tf.keras.layers.Conv2D(filters=filters, kernel_size=kernel_size, activation=activation, padding='same', name=\"{}_conv{}\".format(block_name, i + 1))(x)\n",
        "    \n",
        "  x = tf.keras.layers.MaxPooling2D(pool_size=pool_size, strides=pool_stride, name=\"{}_pool{}\".format(block_name, i+1 ))(x)\n",
        "\n",
        "  return x"
      ],
      "execution_count": 14,
      "outputs": []
    },
    {
      "cell_type": "markdown",
      "metadata": {
        "id": "mbmarJsqlrxF"
      },
      "source": [
        "## Define VGG-16\n",
        "\n",
        "The encoder is built as shown below. \n",
        "\n",
        "* Create 5 blocks with increasing number of filters at each stage. \n",
        "* The number of convolutions, filters, kernel size, activation, pool size and pool stride will remain constant.\n",
        "* Additional convolution layers will be appended to extract more features.\n",
        "* The output will contain the output of the last layer and the previous four convolution blocks."
      ]
    },
    {
      "cell_type": "code",
      "metadata": {
        "id": "AZ439ca4l6Wt"
      },
      "source": [
        "def VGG_16(image_input):\n",
        "  '''\n",
        "  This function defines the VGG encoder.\n",
        "\n",
        "  Args:\n",
        "    image_input (tensor) - batch of images\n",
        "\n",
        "  Returns:\n",
        "    tuple of tensors - output of all encoder blocks plus the final convolution layer\n",
        "  '''\n",
        "\n",
        "  # create 5 blocks with increasing filters at each stage. \n",
        "  # save the output of each block (i.e. p1, p2, p3, p4, p5). \"p\" stands for the pooling layer.\n",
        "  x = block(image_input,n_convs=2, filters=64, kernel_size=(3,3), activation='relu',pool_size=(2,2), pool_stride=(2,2), block_name='block1')\n",
        "  p1= x\n",
        "\n",
        "  x = block(x,n_convs=2, filters=128, kernel_size=(3,3), activation='relu',pool_size=(2,2), pool_stride=(2,2), block_name='block2')\n",
        "  p2 = x\n",
        "\n",
        "  x = block(x,n_convs=3, filters=256, kernel_size=(3,3), activation='relu',pool_size=(2,2), pool_stride=(2,2), block_name='block3')\n",
        "  p3 = x\n",
        "\n",
        "  x = block(x,n_convs=3, filters=512, kernel_size=(3,3), activation='relu',pool_size=(2,2), pool_stride=(2,2), block_name='block4')\n",
        "  p4 = x\n",
        "\n",
        "  x = block(x,n_convs=3, filters=512, kernel_size=(3,3), activation='relu',pool_size=(2,2), pool_stride=(2,2), block_name='block5')\n",
        "  p5 = x\n",
        "\n",
        "  # number of filters for the output convolutional layers\n",
        "  n = 4096\n",
        "\n",
        "  # the input images are 224x224 pixels so they will be downsampled to 7x7 after the pooling layers above.\n",
        "  # we can extract more features by chaining two more convolution layers.\n",
        "  c6 = tf.keras.layers.Conv2D( n , ( 7 , 7 ) , activation='relu' , padding='same', name=\"conv6\")(p5)\n",
        "  c7 = tf.keras.layers.Conv2D( n , ( 1 , 1 ) , activation='relu' , padding='same', name=\"conv7\")(c6)\n",
        "\n",
        "  # return the outputs at each stage. \n",
        "  return (p1, p2, p3, p4, c7)"
      ],
      "execution_count": 15,
      "outputs": []
    },
    {
      "cell_type": "markdown",
      "metadata": {
        "id": "DHRfBHKAmABZ"
      },
      "source": [
        "## Define FCN 8 Decoder"
      ]
    },
    {
      "cell_type": "code",
      "metadata": {
        "id": "ALQ-0vU2mF3V"
      },
      "source": [
        "def fcn8_decoder(convs, n_classes):\n",
        "  '''\n",
        "  Defines the FCN 8 decoder.\n",
        "\n",
        "  Args:\n",
        "    convs (tuple of tensors) - output of the encoder network\n",
        "    n_classes (int) - number of classes\n",
        "\n",
        "  Returns:\n",
        "    tensor with shape (height, width, n_classes) containing class probabilities\n",
        "  '''\n",
        "\n",
        "  # unpack the output of the encoder\n",
        "  f1, f2, f3, f4, f5 = convs\n",
        "  \n",
        "  # upsample the output of the encoder then crop extra pixels that were introduced\n",
        "  o = tf.keras.layers.Conv2DTranspose(n_classes , kernel_size=(4,4) ,  strides=(2,2) , use_bias=False )(f5)\n",
        "  o = tf.keras.layers.Cropping2D(cropping=(1,1))(o)\n",
        "\n",
        "  # load the pool 4 prediction and do a 1x1 convolution to reshape it to the same shape of `o` above\n",
        "  o2 = f4\n",
        "  o2 = ( tf.keras.layers.Conv2D(n_classes , ( 1 , 1 ) , activation='relu' , padding='same'))(o2)\n",
        "\n",
        "  # add the results of the upsampling and pool 4 prediction\n",
        "  o = tf.keras.layers.Add()([o, o2])\n",
        "\n",
        "  # upsample the resulting tensor of the previous step\n",
        "  o = (tf.keras.layers.Conv2DTranspose( n_classes , kernel_size=(4,4) ,  strides=(2,2) , use_bias=False ))(o)\n",
        "  o = tf.keras.layers.Cropping2D(cropping=(1, 1))(o)\n",
        "\n",
        "  # load the pool 3 prediction and do a 1x1 convolution to reshape it to the same shape of `o` above\n",
        "  o2 = f3\n",
        "  o2 = ( tf.keras.layers.Conv2D(n_classes , ( 1 , 1 ) , activation='relu' , padding='same'))(o2)\n",
        "\n",
        "  # add the results of the upsampling and pool 3 prediction\n",
        "  o = tf.keras.layers.Add()([o, o2])\n",
        "  \n",
        "  # upsample up to the size of the original image\n",
        "  o = tf.keras.layers.Conv2DTranspose(n_classes , kernel_size=(8,8) ,  strides=(8,8) , use_bias=False )(o)\n",
        "\n",
        "  # append a softmax to get the class probabilities\n",
        "  o = (tf.keras.layers.Activation('softmax'))(o)\n",
        "\n",
        "  return o"
      ],
      "execution_count": 16,
      "outputs": []
    },
    {
      "cell_type": "markdown",
      "metadata": {
        "id": "gwt5FUMQmQPI"
      },
      "source": [
        "## Define Final Model\n",
        "\n",
        "The final model is built by connecting the encoder and decoder blocks."
      ]
    },
    {
      "cell_type": "code",
      "metadata": {
        "id": "MjviXEohmXz8"
      },
      "source": [
        "def segmentation_model():\n",
        "  '''\n",
        "  Defines the final segmentation model by chaining together the encoder and decoder.\n",
        "\n",
        "  Returns:\n",
        "    keras Model that connects the encoder and decoder networks of the segmentation model\n",
        "  '''\n",
        "  \n",
        "  inputs = tf.keras.layers.Input(shape=(224,224,3,))\n",
        "  convs = VGG_16(image_input=inputs)\n",
        "  outputs = fcn8_decoder(convs, 23)\n",
        "  model = tf.keras.Model(inputs=inputs, outputs=outputs)\n",
        "  \n",
        "  return model"
      ],
      "execution_count": 17,
      "outputs": []
    },
    {
      "cell_type": "code",
      "metadata": {
        "colab": {
          "base_uri": "https://localhost:8080/"
        },
        "id": "YFN_DCaRhJ7c",
        "outputId": "a16995e4-f456-4576-98ce-90db57903b0a"
      },
      "source": [
        "model = segmentation_model()\n",
        "model.summary()"
      ],
      "execution_count": 18,
      "outputs": [
        {
          "output_type": "stream",
          "text": [
            "Model: \"model\"\n",
            "__________________________________________________________________________________________________\n",
            "Layer (type)                    Output Shape         Param #     Connected to                     \n",
            "==================================================================================================\n",
            "input_1 (InputLayer)            [(None, 224, 224, 3) 0                                            \n",
            "__________________________________________________________________________________________________\n",
            "block1_conv1 (Conv2D)           (None, 224, 224, 64) 1792        input_1[0][0]                    \n",
            "__________________________________________________________________________________________________\n",
            "block1_conv2 (Conv2D)           (None, 224, 224, 64) 36928       block1_conv1[0][0]               \n",
            "__________________________________________________________________________________________________\n",
            "block1_pool2 (MaxPooling2D)     (None, 112, 112, 64) 0           block1_conv2[0][0]               \n",
            "__________________________________________________________________________________________________\n",
            "block2_conv1 (Conv2D)           (None, 112, 112, 128 73856       block1_pool2[0][0]               \n",
            "__________________________________________________________________________________________________\n",
            "block2_conv2 (Conv2D)           (None, 112, 112, 128 147584      block2_conv1[0][0]               \n",
            "__________________________________________________________________________________________________\n",
            "block2_pool2 (MaxPooling2D)     (None, 56, 56, 128)  0           block2_conv2[0][0]               \n",
            "__________________________________________________________________________________________________\n",
            "block3_conv1 (Conv2D)           (None, 56, 56, 256)  295168      block2_pool2[0][0]               \n",
            "__________________________________________________________________________________________________\n",
            "block3_conv2 (Conv2D)           (None, 56, 56, 256)  590080      block3_conv1[0][0]               \n",
            "__________________________________________________________________________________________________\n",
            "block3_conv3 (Conv2D)           (None, 56, 56, 256)  590080      block3_conv2[0][0]               \n",
            "__________________________________________________________________________________________________\n",
            "block3_pool3 (MaxPooling2D)     (None, 28, 28, 256)  0           block3_conv3[0][0]               \n",
            "__________________________________________________________________________________________________\n",
            "block4_conv1 (Conv2D)           (None, 28, 28, 512)  1180160     block3_pool3[0][0]               \n",
            "__________________________________________________________________________________________________\n",
            "block4_conv2 (Conv2D)           (None, 28, 28, 512)  2359808     block4_conv1[0][0]               \n",
            "__________________________________________________________________________________________________\n",
            "block4_conv3 (Conv2D)           (None, 28, 28, 512)  2359808     block4_conv2[0][0]               \n",
            "__________________________________________________________________________________________________\n",
            "block4_pool3 (MaxPooling2D)     (None, 14, 14, 512)  0           block4_conv3[0][0]               \n",
            "__________________________________________________________________________________________________\n",
            "block5_conv1 (Conv2D)           (None, 14, 14, 512)  2359808     block4_pool3[0][0]               \n",
            "__________________________________________________________________________________________________\n",
            "block5_conv2 (Conv2D)           (None, 14, 14, 512)  2359808     block5_conv1[0][0]               \n",
            "__________________________________________________________________________________________________\n",
            "block5_conv3 (Conv2D)           (None, 14, 14, 512)  2359808     block5_conv2[0][0]               \n",
            "__________________________________________________________________________________________________\n",
            "block5_pool3 (MaxPooling2D)     (None, 7, 7, 512)    0           block5_conv3[0][0]               \n",
            "__________________________________________________________________________________________________\n",
            "conv6 (Conv2D)                  (None, 7, 7, 4096)   102764544   block5_pool3[0][0]               \n",
            "__________________________________________________________________________________________________\n",
            "conv7 (Conv2D)                  (None, 7, 7, 4096)   16781312    conv6[0][0]                      \n",
            "__________________________________________________________________________________________________\n",
            "conv2d_transpose (Conv2DTranspo (None, 16, 16, 23)   1507328     conv7[0][0]                      \n",
            "__________________________________________________________________________________________________\n",
            "cropping2d (Cropping2D)         (None, 14, 14, 23)   0           conv2d_transpose[0][0]           \n",
            "__________________________________________________________________________________________________\n",
            "conv2d (Conv2D)                 (None, 14, 14, 23)   11799       block4_pool3[0][0]               \n",
            "__________________________________________________________________________________________________\n",
            "add (Add)                       (None, 14, 14, 23)   0           cropping2d[0][0]                 \n",
            "                                                                 conv2d[0][0]                     \n",
            "__________________________________________________________________________________________________\n",
            "conv2d_transpose_1 (Conv2DTrans (None, 30, 30, 23)   8464        add[0][0]                        \n",
            "__________________________________________________________________________________________________\n",
            "cropping2d_1 (Cropping2D)       (None, 28, 28, 23)   0           conv2d_transpose_1[0][0]         \n",
            "__________________________________________________________________________________________________\n",
            "conv2d_1 (Conv2D)               (None, 28, 28, 23)   5911        block3_pool3[0][0]               \n",
            "__________________________________________________________________________________________________\n",
            "add_1 (Add)                     (None, 28, 28, 23)   0           cropping2d_1[0][0]               \n",
            "                                                                 conv2d_1[0][0]                   \n",
            "__________________________________________________________________________________________________\n",
            "conv2d_transpose_2 (Conv2DTrans (None, 224, 224, 23) 33856       add_1[0][0]                      \n",
            "__________________________________________________________________________________________________\n",
            "activation (Activation)         (None, 224, 224, 23) 0           conv2d_transpose_2[0][0]         \n",
            "==================================================================================================\n",
            "Total params: 135,827,902\n",
            "Trainable params: 135,827,902\n",
            "Non-trainable params: 0\n",
            "__________________________________________________________________________________________________\n"
          ],
          "name": "stdout"
        }
      ]
    },
    {
      "cell_type": "markdown",
      "metadata": {
        "id": "dHPg23Wdmt7z"
      },
      "source": [
        "## Compile the Model"
      ]
    },
    {
      "cell_type": "markdown",
      "metadata": {
        "id": "jaNn7p8xm0BP"
      },
      "source": [
        "Next, the model will be configured for training. The loss, optimizer and metrics are defined. `categorical_crossentropy` is used as the loss function since the label map is transformed to one hot encoded vectors for each pixel in the image (i.e. `1` in one slice and `0` for other slices)."
      ]
    },
    {
      "cell_type": "code",
      "metadata": {
        "id": "xTUXIS0zm059"
      },
      "source": [
        "sgd = tf.keras.optimizers.SGD(learning_rate=0.01, momentum=0.9, nesterov=True)\n",
        "\n",
        "model.compile(loss='categorical_crossentropy',\n",
        "              optimizer=sgd,\n",
        "              metrics=['accuracy'])"
      ],
      "execution_count": 19,
      "outputs": []
    },
    {
      "cell_type": "markdown",
      "metadata": {
        "id": "OOtvZwwfm-6x"
      },
      "source": [
        "# Train the model"
      ]
    },
    {
      "cell_type": "code",
      "metadata": {
        "id": "VZtAIku_nFZr",
        "colab": {
          "base_uri": "https://localhost:8080/"
        },
        "outputId": "804d02f4-14e7-484e-a0c2-8e8a6bf4f01d"
      },
      "source": [
        "with tf.device('/device:GPU:0'):\n",
        "# number of training images\n",
        "  train_count = 899\n",
        "\n",
        "# number of validation images\n",
        "  validation_count = 101\n",
        "\n",
        "  EPOCHS = 100\n",
        "\n",
        "  steps_per_epoch = train_count//BATCH_SIZE\n",
        "  validation_steps = validation_count//BATCH_SIZE\n",
        "\n",
        "  es = EarlyStopping(monitor='val_loss', mode='min', verbose=1, patience=50)\n",
        "  history = model.fit(training_dataset,\n",
        "                    steps_per_epoch=steps_per_epoch, validation_data=validation_dataset, validation_steps=validation_steps, epochs=EPOCHS, callbacks=[es])"
      ],
      "execution_count": 20,
      "outputs": [
        {
          "output_type": "stream",
          "text": [
            "Epoch 1/100\n",
            "14/14 [==============================] - 47s 1s/step - loss: 3.1355 - accuracy: 0.0509 - val_loss: 3.1354 - val_accuracy: 0.0516\n",
            "Epoch 2/100\n",
            "14/14 [==============================] - 16s 1s/step - loss: 3.1354 - accuracy: 0.0509 - val_loss: 3.1354 - val_accuracy: 0.0507\n",
            "Epoch 3/100\n",
            "14/14 [==============================] - 16s 1s/step - loss: 3.1354 - accuracy: 0.0510 - val_loss: 3.1354 - val_accuracy: 0.0509\n",
            "Epoch 4/100\n",
            "14/14 [==============================] - 15s 1s/step - loss: 3.1354 - accuracy: 0.0516 - val_loss: 3.1353 - val_accuracy: 0.0517\n",
            "Epoch 5/100\n",
            "14/14 [==============================] - 15s 1s/step - loss: 3.1353 - accuracy: 0.0522 - val_loss: 3.1353 - val_accuracy: 0.0514\n",
            "Epoch 6/100\n",
            "14/14 [==============================] - 15s 1s/step - loss: 3.1353 - accuracy: 0.0524 - val_loss: 3.1352 - val_accuracy: 0.0513\n",
            "Epoch 7/100\n",
            "14/14 [==============================] - 15s 1s/step - loss: 3.1352 - accuracy: 0.0523 - val_loss: 3.1352 - val_accuracy: 0.0514\n",
            "Epoch 8/100\n",
            "14/14 [==============================] - 15s 1s/step - loss: 3.1351 - accuracy: 0.0525 - val_loss: 3.1351 - val_accuracy: 0.0521\n",
            "Epoch 9/100\n",
            "14/14 [==============================] - 15s 1s/step - loss: 3.1350 - accuracy: 0.0532 - val_loss: 3.1349 - val_accuracy: 0.0530\n",
            "Epoch 10/100\n",
            "14/14 [==============================] - 15s 1s/step - loss: 3.1349 - accuracy: 0.0543 - val_loss: 3.1348 - val_accuracy: 0.0544\n",
            "Epoch 11/100\n",
            "14/14 [==============================] - 15s 1s/step - loss: 3.1347 - accuracy: 0.0561 - val_loss: 3.1346 - val_accuracy: 0.0560\n",
            "Epoch 12/100\n",
            "14/14 [==============================] - 15s 1s/step - loss: 3.1344 - accuracy: 0.0582 - val_loss: 3.1343 - val_accuracy: 0.0580\n",
            "Epoch 13/100\n",
            "14/14 [==============================] - 15s 1s/step - loss: 3.1341 - accuracy: 0.0606 - val_loss: 3.1339 - val_accuracy: 0.0608\n",
            "Epoch 14/100\n",
            "14/14 [==============================] - 15s 1s/step - loss: 3.1336 - accuracy: 0.0639 - val_loss: 3.1334 - val_accuracy: 0.0650\n",
            "Epoch 15/100\n",
            "14/14 [==============================] - 15s 1s/step - loss: 3.1330 - accuracy: 0.0684 - val_loss: 3.1326 - val_accuracy: 0.0703\n",
            "Epoch 16/100\n",
            "14/14 [==============================] - 16s 1s/step - loss: 3.1319 - accuracy: 0.0741 - val_loss: 3.1313 - val_accuracy: 0.0759\n",
            "Epoch 17/100\n",
            "14/14 [==============================] - 15s 1s/step - loss: 3.1301 - accuracy: 0.0820 - val_loss: 3.1290 - val_accuracy: 0.0841\n",
            "Epoch 18/100\n",
            "14/14 [==============================] - 15s 1s/step - loss: 3.1267 - accuracy: 0.0932 - val_loss: 3.1240 - val_accuracy: 0.0953\n",
            "Epoch 19/100\n",
            "14/14 [==============================] - 15s 1s/step - loss: 3.1178 - accuracy: 0.1056 - val_loss: 3.1084 - val_accuracy: 0.1111\n",
            "Epoch 20/100\n",
            "14/14 [==============================] - 15s 1s/step - loss: 3.0733 - accuracy: 0.1299 - val_loss: 2.9909 - val_accuracy: 0.1443\n",
            "Epoch 21/100\n",
            "14/14 [==============================] - 15s 1s/step - loss: 2.7133 - accuracy: 0.1775 - val_loss: 2.3914 - val_accuracy: 0.1727\n",
            "Epoch 22/100\n",
            "14/14 [==============================] - 15s 1s/step - loss: 2.0748 - accuracy: 0.2507 - val_loss: 1.8694 - val_accuracy: 0.3010\n",
            "Epoch 23/100\n",
            "14/14 [==============================] - 15s 1s/step - loss: 1.8681 - accuracy: 0.3059 - val_loss: 1.8155 - val_accuracy: 0.3010\n",
            "Epoch 24/100\n",
            "14/14 [==============================] - 15s 1s/step - loss: 1.8193 - accuracy: 0.3081 - val_loss: 1.7926 - val_accuracy: 0.3010\n",
            "Epoch 25/100\n",
            "14/14 [==============================] - 15s 1s/step - loss: 1.8040 - accuracy: 0.3033 - val_loss: 1.7751 - val_accuracy: 0.3010\n",
            "Epoch 26/100\n",
            "14/14 [==============================] - 15s 1s/step - loss: 1.7771 - accuracy: 0.3063 - val_loss: 1.7457 - val_accuracy: 0.3010\n",
            "Epoch 27/100\n",
            "14/14 [==============================] - 15s 1s/step - loss: 1.7648 - accuracy: 0.3072 - val_loss: 1.7292 - val_accuracy: 0.3010\n",
            "Epoch 28/100\n",
            "14/14 [==============================] - 15s 1s/step - loss: 1.7506 - accuracy: 0.3059 - val_loss: 1.7081 - val_accuracy: 0.3019\n",
            "Epoch 29/100\n",
            "14/14 [==============================] - 15s 1s/step - loss: 1.7310 - accuracy: 0.3112 - val_loss: 1.6840 - val_accuracy: 0.3096\n",
            "Epoch 30/100\n",
            "14/14 [==============================] - 15s 1s/step - loss: 1.6944 - accuracy: 0.3516 - val_loss: 1.6234 - val_accuracy: 0.3813\n",
            "Epoch 31/100\n",
            "14/14 [==============================] - 16s 1s/step - loss: 1.5760 - accuracy: 0.4511 - val_loss: 1.4281 - val_accuracy: 0.4911\n",
            "Epoch 32/100\n",
            "14/14 [==============================] - 15s 1s/step - loss: 1.3246 - accuracy: 0.5381 - val_loss: 1.1728 - val_accuracy: 0.5959\n",
            "Epoch 33/100\n",
            "14/14 [==============================] - 15s 1s/step - loss: 1.2161 - accuracy: 0.5984 - val_loss: 1.0366 - val_accuracy: 0.6659\n",
            "Epoch 34/100\n",
            "14/14 [==============================] - 15s 1s/step - loss: 0.9427 - accuracy: 0.7052 - val_loss: 0.8736 - val_accuracy: 0.7110\n",
            "Epoch 35/100\n",
            "14/14 [==============================] - 15s 1s/step - loss: 0.8343 - accuracy: 0.7417 - val_loss: 0.8072 - val_accuracy: 0.7255\n",
            "Epoch 36/100\n",
            "14/14 [==============================] - 15s 1s/step - loss: 0.7975 - accuracy: 0.7499 - val_loss: 0.7783 - val_accuracy: 0.7344\n",
            "Epoch 37/100\n",
            "14/14 [==============================] - 15s 1s/step - loss: 0.7583 - accuracy: 0.7662 - val_loss: 0.7512 - val_accuracy: 0.7419\n",
            "Epoch 38/100\n",
            "14/14 [==============================] - 15s 1s/step - loss: 0.7356 - accuracy: 0.7719 - val_loss: 0.7391 - val_accuracy: 0.7458\n",
            "Epoch 39/100\n",
            "14/14 [==============================] - 15s 1s/step - loss: 0.7221 - accuracy: 0.7736 - val_loss: 0.7290 - val_accuracy: 0.7472\n",
            "Epoch 40/100\n",
            "14/14 [==============================] - 15s 1s/step - loss: 0.7212 - accuracy: 0.7722 - val_loss: 0.7228 - val_accuracy: 0.7471\n",
            "Epoch 41/100\n",
            "14/14 [==============================] - 15s 1s/step - loss: 0.7021 - accuracy: 0.7801 - val_loss: 0.7133 - val_accuracy: 0.7498\n",
            "Epoch 42/100\n",
            "14/14 [==============================] - 15s 1s/step - loss: 0.6982 - accuracy: 0.7822 - val_loss: 0.7242 - val_accuracy: 0.7480\n",
            "Epoch 43/100\n",
            "14/14 [==============================] - 15s 1s/step - loss: 0.6820 - accuracy: 0.7838 - val_loss: 0.7037 - val_accuracy: 0.7520\n",
            "Epoch 44/100\n",
            "14/14 [==============================] - 15s 1s/step - loss: 0.6793 - accuracy: 0.7875 - val_loss: 0.8142 - val_accuracy: 0.7237\n",
            "Epoch 45/100\n",
            "14/14 [==============================] - 15s 1s/step - loss: 0.6914 - accuracy: 0.7829 - val_loss: 0.7232 - val_accuracy: 0.7455\n",
            "Epoch 46/100\n",
            "14/14 [==============================] - 16s 1s/step - loss: 0.6693 - accuracy: 0.7898 - val_loss: 0.6940 - val_accuracy: 0.7587\n",
            "Epoch 47/100\n",
            "14/14 [==============================] - 15s 1s/step - loss: 0.6673 - accuracy: 0.7898 - val_loss: 0.6944 - val_accuracy: 0.7582\n",
            "Epoch 48/100\n",
            "14/14 [==============================] - 15s 1s/step - loss: 0.6560 - accuracy: 0.7946 - val_loss: 0.6910 - val_accuracy: 0.7525\n",
            "Epoch 49/100\n",
            "14/14 [==============================] - 15s 1s/step - loss: 0.6651 - accuracy: 0.7906 - val_loss: 0.6897 - val_accuracy: 0.7577\n",
            "Epoch 50/100\n",
            "14/14 [==============================] - 15s 1s/step - loss: 0.6487 - accuracy: 0.7968 - val_loss: 0.6963 - val_accuracy: 0.7526\n",
            "Epoch 51/100\n",
            "14/14 [==============================] - 15s 1s/step - loss: 0.6397 - accuracy: 0.7999 - val_loss: 0.6903 - val_accuracy: 0.7561\n",
            "Epoch 52/100\n",
            "14/14 [==============================] - 15s 1s/step - loss: 0.6536 - accuracy: 0.7953 - val_loss: 0.6733 - val_accuracy: 0.7723\n",
            "Epoch 53/100\n",
            "14/14 [==============================] - 15s 1s/step - loss: 0.6476 - accuracy: 0.7986 - val_loss: 0.6889 - val_accuracy: 0.7583\n",
            "Epoch 54/100\n",
            "14/14 [==============================] - 15s 1s/step - loss: 0.6411 - accuracy: 0.7996 - val_loss: 0.6767 - val_accuracy: 0.7615\n",
            "Epoch 55/100\n",
            "14/14 [==============================] - 15s 1s/step - loss: 0.6320 - accuracy: 0.8014 - val_loss: 0.6745 - val_accuracy: 0.7747\n",
            "Epoch 56/100\n",
            "14/14 [==============================] - 15s 1s/step - loss: 0.6557 - accuracy: 0.7973 - val_loss: 0.7159 - val_accuracy: 0.7543\n",
            "Epoch 57/100\n",
            "14/14 [==============================] - 15s 1s/step - loss: 0.6366 - accuracy: 0.7992 - val_loss: 0.6652 - val_accuracy: 0.7742\n",
            "Epoch 58/100\n",
            "14/14 [==============================] - 15s 1s/step - loss: 0.6307 - accuracy: 0.8035 - val_loss: 0.6815 - val_accuracy: 0.7567\n",
            "Epoch 59/100\n",
            "14/14 [==============================] - 15s 1s/step - loss: 0.6239 - accuracy: 0.8033 - val_loss: 0.7347 - val_accuracy: 0.7491\n",
            "Epoch 60/100\n",
            "14/14 [==============================] - 15s 1s/step - loss: 0.6092 - accuracy: 0.8103 - val_loss: 0.6878 - val_accuracy: 0.7878\n",
            "Epoch 61/100\n",
            "14/14 [==============================] - 16s 1s/step - loss: 0.6063 - accuracy: 0.8124 - val_loss: 0.6476 - val_accuracy: 0.7946\n",
            "Epoch 62/100\n",
            "14/14 [==============================] - 15s 1s/step - loss: 0.6406 - accuracy: 0.8021 - val_loss: 0.6631 - val_accuracy: 0.7744\n",
            "Epoch 63/100\n",
            "14/14 [==============================] - 15s 1s/step - loss: 0.6052 - accuracy: 0.8121 - val_loss: 0.6547 - val_accuracy: 0.7857\n",
            "Epoch 64/100\n",
            "14/14 [==============================] - 15s 1s/step - loss: 0.5956 - accuracy: 0.8177 - val_loss: 0.6584 - val_accuracy: 0.7800\n",
            "Epoch 65/100\n",
            "14/14 [==============================] - 15s 1s/step - loss: 0.5941 - accuracy: 0.8186 - val_loss: 0.6409 - val_accuracy: 0.7960\n",
            "Epoch 66/100\n",
            "14/14 [==============================] - 15s 1s/step - loss: 0.6090 - accuracy: 0.8140 - val_loss: 0.6545 - val_accuracy: 0.7873\n",
            "Epoch 67/100\n",
            "14/14 [==============================] - 15s 1s/step - loss: 0.5813 - accuracy: 0.8238 - val_loss: 0.6468 - val_accuracy: 0.7899\n",
            "Epoch 68/100\n",
            "14/14 [==============================] - 15s 1s/step - loss: 0.5794 - accuracy: 0.8240 - val_loss: 0.6554 - val_accuracy: 0.7879\n",
            "Epoch 69/100\n",
            "14/14 [==============================] - 15s 1s/step - loss: 0.6044 - accuracy: 0.8155 - val_loss: 0.6385 - val_accuracy: 0.7898\n",
            "Epoch 70/100\n",
            "14/14 [==============================] - 15s 1s/step - loss: 0.5952 - accuracy: 0.8200 - val_loss: 0.6495 - val_accuracy: 0.7874\n",
            "Epoch 71/100\n",
            "14/14 [==============================] - 15s 1s/step - loss: 0.5748 - accuracy: 0.8278 - val_loss: 0.6639 - val_accuracy: 0.7799\n",
            "Epoch 72/100\n",
            "14/14 [==============================] - 15s 1s/step - loss: 0.5742 - accuracy: 0.8246 - val_loss: 0.6307 - val_accuracy: 0.7987\n",
            "Epoch 73/100\n",
            "14/14 [==============================] - 15s 1s/step - loss: 0.5553 - accuracy: 0.8326 - val_loss: 0.6249 - val_accuracy: 0.8028\n",
            "Epoch 74/100\n",
            "14/14 [==============================] - 15s 1s/step - loss: 0.5620 - accuracy: 0.8311 - val_loss: 0.6604 - val_accuracy: 0.7815\n",
            "Epoch 75/100\n",
            "14/14 [==============================] - 15s 1s/step - loss: 0.5510 - accuracy: 0.8336 - val_loss: 0.7758 - val_accuracy: 0.7602\n",
            "Epoch 76/100\n",
            "14/14 [==============================] - 16s 1s/step - loss: 0.5693 - accuracy: 0.8299 - val_loss: 0.6174 - val_accuracy: 0.8069\n",
            "Epoch 77/100\n",
            "14/14 [==============================] - 15s 1s/step - loss: 0.5518 - accuracy: 0.8340 - val_loss: 0.6152 - val_accuracy: 0.8064\n",
            "Epoch 78/100\n",
            "14/14 [==============================] - 15s 1s/step - loss: 0.6939 - accuracy: 0.7959 - val_loss: 0.6635 - val_accuracy: 0.7765\n",
            "Epoch 79/100\n",
            "14/14 [==============================] - 15s 1s/step - loss: 0.5910 - accuracy: 0.8186 - val_loss: 0.6460 - val_accuracy: 0.7884\n",
            "Epoch 80/100\n",
            "14/14 [==============================] - 15s 1s/step - loss: 0.5757 - accuracy: 0.8239 - val_loss: 0.6319 - val_accuracy: 0.8015\n",
            "Epoch 81/100\n",
            "14/14 [==============================] - 15s 1s/step - loss: 0.5683 - accuracy: 0.8276 - val_loss: 0.6196 - val_accuracy: 0.8063\n",
            "Epoch 82/100\n",
            "14/14 [==============================] - 15s 1s/step - loss: 0.5525 - accuracy: 0.8347 - val_loss: 0.6176 - val_accuracy: 0.8095\n",
            "Epoch 83/100\n",
            "14/14 [==============================] - 15s 1s/step - loss: 0.5396 - accuracy: 0.8381 - val_loss: 0.6112 - val_accuracy: 0.8078\n",
            "Epoch 84/100\n",
            "14/14 [==============================] - 15s 1s/step - loss: 0.5391 - accuracy: 0.8375 - val_loss: 0.6465 - val_accuracy: 0.7887\n",
            "Epoch 85/100\n",
            "14/14 [==============================] - 15s 1s/step - loss: 0.5386 - accuracy: 0.8388 - val_loss: 0.6270 - val_accuracy: 0.7989\n",
            "Epoch 86/100\n",
            "14/14 [==============================] - 15s 1s/step - loss: 0.5284 - accuracy: 0.8426 - val_loss: 0.5965 - val_accuracy: 0.8144\n",
            "Epoch 87/100\n",
            "14/14 [==============================] - 15s 1s/step - loss: 0.5226 - accuracy: 0.8427 - val_loss: 0.6303 - val_accuracy: 0.7952\n",
            "Epoch 88/100\n",
            "14/14 [==============================] - 15s 1s/step - loss: 0.5253 - accuracy: 0.8437 - val_loss: 0.6424 - val_accuracy: 0.7916\n",
            "Epoch 89/100\n",
            "14/14 [==============================] - 15s 1s/step - loss: 0.5181 - accuracy: 0.8450 - val_loss: 0.6212 - val_accuracy: 0.7980\n",
            "Epoch 90/100\n",
            "14/14 [==============================] - 15s 1s/step - loss: 0.5040 - accuracy: 0.8504 - val_loss: 0.6432 - val_accuracy: 0.8015\n",
            "Epoch 91/100\n",
            "14/14 [==============================] - 16s 1s/step - loss: 0.5204 - accuracy: 0.8456 - val_loss: 0.6102 - val_accuracy: 0.8008\n",
            "Epoch 92/100\n",
            "14/14 [==============================] - 15s 1s/step - loss: 0.5123 - accuracy: 0.8476 - val_loss: 0.5875 - val_accuracy: 0.8147\n",
            "Epoch 93/100\n",
            "14/14 [==============================] - 15s 1s/step - loss: 0.5001 - accuracy: 0.8514 - val_loss: 0.6381 - val_accuracy: 0.7928\n",
            "Epoch 94/100\n",
            "14/14 [==============================] - 15s 1s/step - loss: 0.5036 - accuracy: 0.8514 - val_loss: 0.6382 - val_accuracy: 0.7889\n",
            "Epoch 95/100\n",
            "14/14 [==============================] - 15s 1s/step - loss: 0.5101 - accuracy: 0.8487 - val_loss: 0.5849 - val_accuracy: 0.8168\n",
            "Epoch 96/100\n",
            "14/14 [==============================] - 15s 1s/step - loss: 0.4961 - accuracy: 0.8534 - val_loss: 0.5870 - val_accuracy: 0.8201\n",
            "Epoch 97/100\n",
            "14/14 [==============================] - 15s 1s/step - loss: 0.4916 - accuracy: 0.8549 - val_loss: 0.5765 - val_accuracy: 0.8195\n",
            "Epoch 98/100\n",
            "14/14 [==============================] - 15s 1s/step - loss: 0.4855 - accuracy: 0.8580 - val_loss: 0.5644 - val_accuracy: 0.8257\n",
            "Epoch 99/100\n",
            "14/14 [==============================] - 15s 1s/step - loss: 0.5256 - accuracy: 0.8447 - val_loss: 0.6040 - val_accuracy: 0.8068\n",
            "Epoch 100/100\n",
            "14/14 [==============================] - 15s 1s/step - loss: 0.5023 - accuracy: 0.8519 - val_loss: 0.5678 - val_accuracy: 0.8244\n"
          ],
          "name": "stdout"
        }
      ]
    },
    {
      "cell_type": "code",
      "metadata": {
        "colab": {
          "base_uri": "https://localhost:8080/",
          "height": 592
        },
        "id": "OJu0Q2g-sTO_",
        "outputId": "9e41d8fa-56ff-4c3b-bda2-592955c1ff51"
      },
      "source": [
        "# list all data in history\n",
        "print(history.history.keys())\n",
        "# summarize history for accuracy\n",
        "plt.plot(history.history['accuracy'])\n",
        "plt.plot(history.history['val_accuracy'])\n",
        "plt.title('model accuracy')\n",
        "plt.ylabel('accuracy')\n",
        "plt.xlabel('epoch')\n",
        "plt.legend(['train', 'test'], loc='upper left')\n",
        "plt.show()\n",
        "# summarize history for loss\n",
        "plt.plot(history.history['loss'])\n",
        "plt.plot(history.history['val_loss'])\n",
        "plt.title('model loss')\n",
        "plt.ylabel('loss')\n",
        "plt.xlabel('epoch')\n",
        "plt.legend(['train', 'test'], loc='upper left')\n",
        "plt.show()"
      ],
      "execution_count": 21,
      "outputs": [
        {
          "output_type": "stream",
          "text": [
            "dict_keys(['loss', 'accuracy', 'val_loss', 'val_accuracy'])\n"
          ],
          "name": "stdout"
        },
        {
          "output_type": "display_data",
          "data": {
            "image/png": "[encoded data removed]",
            "text/plain": [
              "<Figure size 432x288 with 1 Axes>"
            ]
          },
          "metadata": {
            "tags": [],
            "needs_background": "light"
          }
        },
        {
          "output_type": "display_data",
          "data": {
            "image/png": "[encoded data removed]",
            "text/plain": [
              "<Figure size 432x288 with 1 Axes>"
            ]
          },
          "metadata": {
            "tags": [],
            "needs_background": "light"
          }
        }
      ]
    },
    {
      "cell_type": "markdown",
      "metadata": {
        "id": "TJfyr9o9-6xY"
      },
      "source": [
        "# Evaluate the Model\n"
      ]
    },
    {
      "cell_type": "code",
      "metadata": {
        "id": "HT4onTC-_AON"
      },
      "source": [
        "def get_images_and_segments_test_arrays():\n",
        "  '''\n",
        "  Gets a subsample of the val set as your test set\n",
        "\n",
        "  Returns:\n",
        "    Test set containing ground truth images and label maps\n",
        "  '''\n",
        "  y_true_segments = []\n",
        "  y_true_images = []\n",
        "  test_count = 64\n",
        "\n",
        "  ds = validation_dataset.unbatch()\n",
        "  ds = ds.batch(101)\n",
        "\n",
        "  for image, annotation in ds.take(1):\n",
        "    y_true_images = image\n",
        "    y_true_segments = annotation\n",
        "\n",
        "\n",
        "  y_true_segments = y_true_segments[:test_count, : ,: , :]\n",
        "  y_true_segments = np.argmax(y_true_segments, axis=3)  \n",
        "\n",
        "  return y_true_images, y_true_segments\n",
        "\n",
        "# load the ground truth images and segmentation masks\n",
        "y_true_images, y_true_segments = get_images_and_segments_test_arrays()"
      ],
      "execution_count": 22,
      "outputs": []
    },
    {
      "cell_type": "markdown",
      "metadata": {
        "id": "z1UvGGKI_GbY"
      },
      "source": [
        "### Make Predictions\n",
        "\n",
        "The output of our segmentation model has the shape `(height, width, 23)` where `23` is the number of classes. Each pixel value in those 23 slices indicates the probability of that pixel belonging to that particular class. If you want to create the predicted label map, then you can get the `argmax()` of that axis. This is shown in the following cell."
      ]
    },
    {
      "cell_type": "code",
      "metadata": {
        "colab": {
          "base_uri": "https://localhost:8080/"
        },
        "id": "WYfhDjH0_LpU",
        "outputId": "995f46de-f0d5-4447-86cc-51071dfddc80"
      },
      "source": [
        "# get the model prediction\n",
        "results = model.predict(validation_dataset, steps=validation_steps)\n",
        "\n",
        "# for each pixel, get the slice number which has the highest probability\n",
        "results = np.argmax(results, axis=3)\n",
        "print(results.shape)"
      ],
      "execution_count": 23,
      "outputs": [
        {
          "output_type": "stream",
          "text": [
            "(64, 224, 224)\n"
          ],
          "name": "stdout"
        }
      ]
    },
    {
      "cell_type": "markdown",
      "metadata": {
        "id": "_G5qMW56_fC9"
      },
      "source": [
        "## Compute Metrics\n",
        "\n",
        "The function below generates the IOU and dice score of the prediction and ground truth masks.\n",
        "\n",
        "$$IOU = \\frac{area\\_of\\_overlap}{area\\_of\\_union}$$\n",
        "<br>\n",
        "$$Dice Score = 2 * \\frac{area\\_of\\_overlap}{combined\\_area}$$\n",
        "\n",
        "A small smoothening factor is introduced in the denominators to prevent possible division by zero."
      ]
    },
    {
      "cell_type": "code",
      "metadata": {
        "id": "mDDVgimY_gHs"
      },
      "source": [
        "def compute_metrics(y_true, y_pred):\n",
        "  '''\n",
        "  Computes IOU and Dice Score.\n",
        "\n",
        "  Args:\n",
        "    y_true (tensor) - ground truth label map\n",
        "    y_pred (tensor) - predicted label map\n",
        "  '''\n",
        "  \n",
        "  class_wise_iou = []\n",
        "  class_wise_dice_score = []\n",
        "\n",
        "  smoothening_factor = 0.00001\n",
        "\n",
        "  for i in range(len(class_names)):\n",
        "    intersection = np.sum((y_pred == i) * (y_true == i))\n",
        "    y_true_area = np.sum((y_true == i))\n",
        "    y_pred_area = np.sum((y_pred == i))\n",
        "    combined_area = y_true_area + y_pred_area\n",
        "    \n",
        "    iou = (intersection + smoothening_factor) / (combined_area - intersection + smoothening_factor)\n",
        "    class_wise_iou.append(iou)\n",
        "    \n",
        "    dice_score =  2 * ((intersection + smoothening_factor) / (combined_area + smoothening_factor))\n",
        "    class_wise_dice_score.append(dice_score)\n",
        "\n",
        "  return class_wise_iou, class_wise_dice_score"
      ],
      "execution_count": 24,
      "outputs": []
    },
    {
      "cell_type": "code",
      "metadata": {
        "colab": {
          "base_uri": "https://localhost:8080/"
        },
        "id": "pALNzm-PwMdi",
        "outputId": "2529d59d-d560-4fdd-c9eb-2e62bc8551b6"
      },
      "source": [
        "print(y_true_segments.shape)\n",
        "print(results.shape)\n",
        "print(len(class_names))"
      ],
      "execution_count": 25,
      "outputs": [
        {
          "output_type": "stream",
          "text": [
            "(64, 224, 224)\n",
            "(64, 224, 224)\n",
            "23\n"
          ],
          "name": "stdout"
        }
      ]
    },
    {
      "cell_type": "markdown",
      "metadata": {
        "id": "L_LdGnSH_owr"
      },
      "source": [
        "## Display Predictions"
      ]
    },
    {
      "cell_type": "code",
      "metadata": {
        "id": "Ycem4DHc_t_Y",
        "colab": {
          "base_uri": "https://localhost:8080/",
          "height": 305
        },
        "outputId": "dd896859-31eb-454a-c32e-7d2594883580"
      },
      "source": [
        "# input a number from 0 to 63 to pick an image from the test set\n",
        "integer_slider = 0\n",
        "\n",
        "# compute metrics\n",
        "iou, dice_score = compute_metrics(y_true_segments[integer_slider], results[integer_slider])  \n",
        "print(y_true_segments.shape)\n",
        "print(results.shape)\n",
        "# visualize the output and metrics\n",
        "show_predictions(y_true_images[integer_slider], [results[integer_slider], y_true_segments[integer_slider]], [\"Image\", \"Predicted Mask\", \"True Mask\"], iou, dice_score)"
      ],
      "execution_count": 30,
      "outputs": [
        {
          "output_type": "stream",
          "text": [
            "(64, 224, 224)\n",
            "(64, 224, 224)\n"
          ],
          "name": "stdout"
        },
        {
          "output_type": "display_data",
          "data": {
            "image/png": "[encoded data removed]",
            "text/plain": [
              "<Figure size 1080x288 with 3 Axes>"
            ]
          },
          "metadata": {
            "tags": []
          }
        }
      ]
    },
    {
      "cell_type": "code",
      "metadata": {
        "id": "y8aWa6c7uBN2"
      },
      "source": [
        "# compute metrics\n",
        "cls_wise_iou, cls_wise_dice_score = compute_metrics(y_true_segments, results)"
      ],
      "execution_count": 27,
      "outputs": []
    },
    {
      "cell_type": "code",
      "metadata": {
        "id": "T6jOvPWVuD3W"
      },
      "source": [
        "# print IOU for each class\n",
        "for idx, iou in enumerate(cls_wise_iou):\n",
        "  spaces = ' ' * (13-len(class_names[idx]) + 2)\n",
        "  print(\"{}{}{} \".format(class_names[idx], spaces, iou))\n"
      ],
      "execution_count": null,
      "outputs": []
    },
    {
      "cell_type": "code",
      "metadata": {
        "id": "HNuEVRpsuFhm",
        "colab": {
          "base_uri": "https://localhost:8080/"
        },
        "outputId": "4ccf9295-48df-4316-9af9-2f4c3ded4f3a"
      },
      "source": [
        "# print the dice score for each class\n",
        "for idx, dice_score in enumerate(cls_wise_dice_score):\n",
        "  spaces = ' ' * (13-len(class_names[idx]) + 2)\n",
        "  print(\"{}{}{} \".format(class_names[idx], spaces, dice_score)) "
      ],
      "execution_count": 29,
      "outputs": [
        {
          "output_type": "stream",
          "text": [
            "Unlabeled\n",
            "0.9425984287928438\n",
            "Building\n",
            "0.682430355343103\n",
            "Fence\n",
            "0.00106133522757736\n",
            "Other\n",
            "0.002000694526264072\n",
            "Pedestrian\n",
            "2.641310086316284e-09\n",
            "Pole\n",
            "8.598821957694304e-10\n",
            "RoadLine\n",
            "0.002837586060276892\n",
            "Road\n",
            "0.9038523606592559\n",
            "SideWalk\n",
            "0.7381077516744162\n",
            "Vegetation\n",
            "0.582144474751784\n",
            "Vehicles\n",
            "0.9550490203139094\n",
            "Wall\n",
            "0.011201104591417281\n",
            "TrafficSign\n",
            "1.0060362122432788e-08\n",
            "Sky\n",
            "2.0\n",
            "Ground\n",
            "2.0\n",
            "Bridge\n",
            "2.0\n",
            "RailTrack\n",
            "2.0\n",
            "GuardRail\n",
            "2.0\n",
            "TrafficLight\n",
            "2.0\n",
            "Static\n",
            "2.0\n",
            "Dynamic\n",
            "2.0\n",
            "Water\n",
            "2.0\n",
            "Terrain\n",
            "2.0\n"
          ],
          "name": "stdout"
        }
      ]
    }
  ]
}