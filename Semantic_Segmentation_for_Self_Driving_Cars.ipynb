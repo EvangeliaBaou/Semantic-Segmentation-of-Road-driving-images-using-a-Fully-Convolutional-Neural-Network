{
  "nbformat": 4,
  "nbformat_minor": 0,
  "metadata": {
    "accelerator": "GPU",
    "colab": {
      "name": "Semantic Segmentation for Self Driving Cars.ipynb",
      "provenance": [],
      "collapsed_sections": [
        "O8EDtBq0-yqR",
        "RO4yIk948t5o"
      ],
      "toc_visible": true,
      "machine_shape": "hm"
    },
    "kernelspec": {
      "display_name": "Python 3",
      "name": "python3"
    },
    "language_info": {
      "name": "python"
    }
  },
  "cells": [
    {
      "cell_type": "markdown",
      "metadata": {
        "id": "YXVNzlDs-eG3"
      },
      "source": [
        "#Fully Convolutional Neural Networks for Image Segmentation\n",
        "\n",
        "This notebook illustrates how to build a Fully Convolutional Neural Network for semantic image segmentation."
      ]
    },
    {
      "cell_type": "markdown",
      "metadata": {
        "id": "O8EDtBq0-yqR"
      },
      "source": [
        "# Imports"
      ]
    },
    {
      "cell_type": "code",
      "metadata": {
        "id": "k5oa2Gdh-wxd"
      },
      "source": [
        "import os\n",
        "import zipfile\n",
        "import PIL.Image, PIL.ImageFont, PIL.ImageDraw\n",
        "import numpy as np\n",
        "\n",
        "try:\n",
        "  # %tensorflow_version only exists in Colab.\n",
        "  %tensorflow_version 2.x\n",
        "except Exception:\n",
        "  pass\n",
        "\n",
        "import tensorflow as tf\n",
        "from matplotlib import pyplot as plt\n",
        "import tensorflow_datasets as tfds\n",
        "import seaborn as sns\n",
        "from keras.callbacks import EarlyStopping"
      ],
      "execution_count": null,
      "outputs": []
    },
    {
      "cell_type": "markdown",
      "metadata": {
        "id": "XZtIDGnrGgtR"
      },
      "source": [
        "# Download the Dataset"
      ]
    },
    {
      "cell_type": "markdown",
      "metadata": {
        "id": "DVtlizSLGmeY"
      },
      "source": [
        "The dataset is hosted in a Google bucket so you will need to download it first and unzip to a local directory."
      ]
    },
    {
      "cell_type": "code",
      "metadata": {
        "id": "vM3CFGCuGqtp",
        "colab": {
          "base_uri": "https://localhost:8080/"
        },
        "outputId": "302f2183-e3b4-4725-b4fe-a9ed615dfd28"
      },
      "source": [
        "# download the dataset (zipped file)\n",
        "!wget --no-check-certificate \\\n",
        "    https://storage.googleapis.com/semantic_segmentation_for_self_driving_cars_dataset/Semantic_Segmentation_dl.zip \\\n",
        "    -O /tmp/Semantic_Segmentation_dl.zip\n",
        "\n",
        "# extract the downloaded dataset to a local directory: /tmp/Semantic_Segmentation\n",
        "local_zip = '/tmp/Semantic_Segmentation_dl.zip'\n",
        "zip_ref = zipfile.ZipFile(local_zip, 'r')\n",
        "zip_ref.extractall('/tmp/Semantic_Segmentation')\n",
        "zip_ref.close()"
      ],
      "execution_count": null,
      "outputs": [
        {
          "output_type": "stream",
          "text": [
            "--2021-07-05 12:45:30--  https://storage.googleapis.com/semantic_segmentation_for_self_driving_cars_dataset/Semantic_Segmentation_dl.zip\n",
            "Resolving storage.googleapis.com (storage.googleapis.com)... 108.177.98.128, 74.125.197.128, 74.125.195.128, ...\n",
            "Connecting to storage.googleapis.com (storage.googleapis.com)|108.177.98.128|:443... connected.\n",
            "HTTP request sent, awaiting response... 200 OK\n",
            "Length: 547791422 (522M) [application/x-zip-compressed]\n",
            "Saving to: ‘/tmp/Semantic_Segmentation_dl.zip’\n",
            "\n",
            "/tmp/Semantic_Segme 100%[===================>] 522.41M   112MB/s    in 4.8s    \n",
            "\n",
            "2021-07-05 12:45:35 (110 MB/s) - ‘/tmp/Semantic_Segmentation_dl.zip’ saved [547791422/547791422]\n",
            "\n"
          ],
          "name": "stdout"
        }
      ]
    },
    {
      "cell_type": "code",
      "metadata": {
        "id": "xTZhQTxkjiA2"
      },
      "source": [
        "'''\n",
        "create a list containing the class names\n",
        "'''\n",
        "class_names = ['Unlabeled', 'Building','Fence', 'Other', 'Pedestrian', 'Pole', 'RoadLine', 'Road', 'SideWalk', 'Vegetation', 'Vehicles', 'Wall','TrafficSign','Sky','Ground','Bridge','RailTrack','GuardRail','TrafficLight','Static','Dynamic','Water','Terrain']"
      ],
      "execution_count": null,
      "outputs": []
    },
    {
      "cell_type": "markdown",
      "metadata": {
        "id": "NnTygEu7lg-d"
      },
      "source": [
        "# Load and Prepare the Dataset"
      ]
    },
    {
      "cell_type": "code",
      "metadata": {
        "id": "RXj7CpknuuEI"
      },
      "source": [
        "def map_filename_to_image_and_mask(t_filename, a_filename, height=224, width=224):\n",
        "  '''\n",
        "  Preprocesses the dataset by:\n",
        "    * resizing the input image and label maps\n",
        "    * normalizing the input image pixels\n",
        "    * reshaping the label maps from (height, width, 1) to (height, width, 23)\n",
        "\n",
        "  Args:\n",
        "    t_filename (string) -- path to the raw input image\n",
        "    a_filename (string) -- path to the raw annotation (label map) file\n",
        "    height (int) -- height in pixels to resize to\n",
        "    width (int) -- width in pixels to resize to\n",
        "\n",
        "  Returns:\n",
        "    image (tensor) -- preprocessed image\n",
        "    annotation (tensor) -- preprocessed annotation\n",
        "  '''\n",
        "\n",
        "  # Convert image and mask files to tensors \n",
        "  img_raw = tf.io.read_file(t_filename)\n",
        "  anno_raw = tf.io.read_file(a_filename)\n",
        "  image = tf.image.decode_png(img_raw) #Decode a PNG-encoded image to a uint8 or uint16 tensor.\n",
        "  annotation = tf.image.decode_png(anno_raw)\n",
        "  # print(annotation)\n",
        "\n",
        "  # Resize image and segmentation mask\n",
        "  image = tf.image.resize(image, (height, width,))\n",
        "  annotation = tf.image.resize(annotation, (height, width,))\n",
        "  image = tf.reshape(image, (height, width, 3,))\n",
        "  # print(annotation)\n",
        "  annotation = tf.cast(annotation, dtype=tf.int32)\n",
        "  annotation = tf.reshape(annotation, (height, width, 1,))\n",
        "  print(annotation[:,:,0])\n",
        "  stack_list = []\n",
        "\n",
        "  # Reshape segmentation masks\n",
        "  for c in range(len(class_names)):\n",
        "    mask = tf.equal(annotation[:,:,0], tf.constant(c))\n",
        "    stack_list.append(tf.cast(mask, dtype=tf.int32))\n",
        "    print(tf.constant(c))\n",
        "  \n",
        "  annotation = tf.stack(stack_list, axis=2)\n",
        "  # print(annotation)\n",
        "  # Normalize pixels in the input image\n",
        "  image = image/255\n",
        "  image -= 1\n",
        "  # print(image)\n",
        "\n",
        "  return image, annotation"
      ],
      "execution_count": null,
      "outputs": []
    },
    {
      "cell_type": "markdown",
      "metadata": {
        "id": "oyuVthxFPUgq"
      },
      "source": [
        "The following functions are used to create the tensorflow datasets from the images in these folders. Notice that before creating the batches in the `get_training_dataset()` and `get_validation_set()`, the images are first preprocessed using the `map_filename_to_image_and_mask()` function."
      ]
    },
    {
      "cell_type": "markdown",
      "metadata": {
        "id": "n41Xnkt08cbC"
      },
      "source": [
        "### Utilities for preparing the datasets"
      ]
    },
    {
      "cell_type": "markdown",
      "metadata": {
        "id": "b3bdbtl88i4P"
      },
      "source": [
        "#### get_dataset_slice_paths"
      ]
    },
    {
      "cell_type": "code",
      "metadata": {
        "id": "W85U8meA8mpc"
      },
      "source": [
        "BATCH_SIZE = 64\n",
        "\n",
        "def get_dataset_slice_paths(image_dir, label_map_dir):\n",
        "  '''\n",
        "  generates the lists of image and label map paths\n",
        "  \n",
        "  Args:\n",
        "    image_dir (string) -- path to the input images directory\n",
        "    label_map_dir (string) -- path to the label map directory\n",
        "\n",
        "  Returns:\n",
        "    image_paths (list of strings) -- paths to each image file\n",
        "    label_map_paths (list of strings) -- paths to each label map\n",
        "  '''\n",
        "  image_file_list = os.listdir(image_dir)\n",
        "  label_map_file_list = os.listdir(label_map_dir)\n",
        "  image_paths = [os.path.join(image_dir, fname) for fname in image_file_list]\n",
        "  label_map_paths = [os.path.join(label_map_dir, fname) for fname in label_map_file_list]\n",
        "\n",
        "  return image_paths, label_map_paths"
      ],
      "execution_count": null,
      "outputs": []
    },
    {
      "cell_type": "markdown",
      "metadata": {
        "id": "hR7s52_u8o44"
      },
      "source": [
        "#### get_training_dataset"
      ]
    },
    {
      "cell_type": "code",
      "metadata": {
        "id": "lMD51mcm8rdm"
      },
      "source": [
        "def get_training_dataset(image_paths, label_map_paths):\n",
        "  '''\n",
        "  Prepares shuffled batches of the training set.\n",
        "  \n",
        "  Args:\n",
        "    image_paths (list of strings) -- paths to each image file in the train set\n",
        "    label_map_paths (list of strings) -- paths to each label map in the train set\n",
        "\n",
        "  Returns:\n",
        "    tf Dataset containing the preprocessed train set\n",
        "  '''\n",
        "  training_dataset = tf.data.Dataset.from_tensor_slices((image_paths, label_map_paths))\n",
        "  training_dataset = training_dataset.map(map_filename_to_image_and_mask)\n",
        "  training_dataset = training_dataset.shuffle(200, reshuffle_each_iteration=True)\n",
        "  training_dataset = training_dataset.batch(BATCH_SIZE)\n",
        "  training_dataset = training_dataset.repeat()\n",
        "  training_dataset = training_dataset.prefetch(-1)\n",
        "  \n",
        "  return training_dataset\n"
      ],
      "execution_count": null,
      "outputs": []
    },
    {
      "cell_type": "markdown",
      "metadata": {
        "id": "RO4yIk948t5o"
      },
      "source": [
        "#### get_validation_dataset"
      ]
    },
    {
      "cell_type": "code",
      "metadata": {
        "id": "ShXLL9X38vNG"
      },
      "source": [
        "def get_validation_dataset(image_paths, label_map_paths):\n",
        "  '''\n",
        "  Prepares batches of the validation set.\n",
        "  \n",
        "  Args:\n",
        "    image_paths (list of strings) -- paths to each image file in the val set\n",
        "    label_map_paths (list of strings) -- paths to each label map in the val set\n",
        "\n",
        "  Returns:\n",
        "    tf Dataset containing the preprocessed validation set\n",
        "  '''\n",
        "  validation_dataset = tf.data.Dataset.from_tensor_slices((image_paths, label_map_paths))\n",
        "  validation_dataset = validation_dataset.map(map_filename_to_image_and_mask)\n",
        "  validation_dataset = validation_dataset.batch(BATCH_SIZE)\n",
        "  validation_dataset = validation_dataset.repeat()  \n",
        "\n",
        "  return validation_dataset"
      ],
      "execution_count": null,
      "outputs": []
    },
    {
      "cell_type": "code",
      "metadata": {
        "colab": {
          "base_uri": "https://localhost:8080/"
        },
        "id": "3T2YkymDRIDB",
        "outputId": "95ec56e5-df73-4ad5-a0fb-2181b392533e"
      },
      "source": [
        "# show folders inside the dataset\n",
        "!ls /tmp/Semantic_Segmentation/Semantic_Segmentation_dl/dataset/"
      ],
      "execution_count": null,
      "outputs": [
        {
          "output_type": "stream",
          "text": [
            "annotations_test  annotations_train  images_test  images_train\n"
          ],
          "name": "stdout"
        }
      ]
    },
    {
      "cell_type": "markdown",
      "metadata": {
        "id": "lAeK7beyRBNA"
      },
      "source": [
        "## Generate the training and validation sets"
      ]
    },
    {
      "cell_type": "code",
      "metadata": {
        "id": "ouv73Xh6RDOO"
      },
      "source": [
        "# get the paths to the images\n",
        "training_image_paths, training_label_map_paths = get_dataset_slice_paths('/tmp/Semantic_Segmentation/Semantic_Segmentation_dl/dataset/images_train/','/tmp/Semantic_Segmentation/Semantic_Segmentation_dl/dataset/annotations_train/')\n",
        "validation_image_paths, validation_label_map_paths = get_dataset_slice_paths('/tmp/Semantic_Segmentation/Semantic_Segmentation_dl/dataset/images_test/','/tmp/Semantic_Segmentation/Semantic_Segmentation_dl/dataset/annotations_test/')\n",
        "\n",
        "# generate the train and val sets\n",
        "training_dataset = get_training_dataset(training_image_paths, training_label_map_paths)\n",
        "validation_dataset = get_validation_dataset(validation_image_paths, validation_label_map_paths)"
      ],
      "execution_count": null,
      "outputs": []
    },
    {
      "cell_type": "markdown",
      "metadata": {
        "id": "P-KRtj1cSO07"
      },
      "source": [
        "# Let's Take a Look at the Dataset"
      ]
    },
    {
      "cell_type": "markdown",
      "metadata": {
        "id": "wtYhgBZiSXcq"
      },
      "source": [
        "Some utilities are used in roder to visualize the dataset and the model predictions later. First, a color mapping is assigned to the classes in the label maps. Since our dataset has 23 classes, you need to have a list of 23 colors. We can use the [color_palette()](https://seaborn.pydata.org/generated/seaborn.color_palette.html) from Seaborn to generate this."
      ]
    },
    {
      "cell_type": "code",
      "metadata": {
        "colab": {
          "base_uri": "https://localhost:8080/"
        },
        "id": "8KtqgyfbSYa8",
        "outputId": "d93a9605-fb47-4587-94dd-1652722e0518"
      },
      "source": [
        "# generate a list that contains one color for each class\n",
        "colors = sns.color_palette(None, len(class_names))\n",
        "\n",
        "# print class name - normalized RGB tuple pairs\n",
        "# the tuple values will be multiplied by 255 in the helper functions later\n",
        "# to convert to the (0,0,0) to (255,255,255) RGB values you might be familiar with\n",
        "for class_name, color in zip(class_names, colors):\n",
        "  print(f'{class_name} -- {color}')"
      ],
      "execution_count": null,
      "outputs": [
        {
          "output_type": "stream",
          "text": [
            "Unlabeled -- (0.12156862745098039, 0.4666666666666667, 0.7058823529411765)\n",
            "Building -- (1.0, 0.4980392156862745, 0.054901960784313725)\n",
            "Fence -- (0.17254901960784313, 0.6274509803921569, 0.17254901960784313)\n",
            "Other -- (0.8392156862745098, 0.15294117647058825, 0.1568627450980392)\n",
            "Pedestrian -- (0.5803921568627451, 0.403921568627451, 0.7411764705882353)\n",
            "Pole -- (0.5490196078431373, 0.33725490196078434, 0.29411764705882354)\n",
            "RoadLine -- (0.8901960784313725, 0.4666666666666667, 0.7607843137254902)\n",
            "Road -- (0.4980392156862745, 0.4980392156862745, 0.4980392156862745)\n",
            "SideWalk -- (0.7372549019607844, 0.7411764705882353, 0.13333333333333333)\n",
            "Vegetation -- (0.09019607843137255, 0.7450980392156863, 0.8117647058823529)\n",
            "Vehicles -- (0.12156862745098039, 0.4666666666666667, 0.7058823529411765)\n",
            "Wall -- (1.0, 0.4980392156862745, 0.054901960784313725)\n",
            "TrafficSign -- (0.17254901960784313, 0.6274509803921569, 0.17254901960784313)\n",
            "Sky -- (0.8392156862745098, 0.15294117647058825, 0.1568627450980392)\n",
            "Ground -- (0.5803921568627451, 0.403921568627451, 0.7411764705882353)\n",
            "Bridge -- (0.5490196078431373, 0.33725490196078434, 0.29411764705882354)\n",
            "RailTrack -- (0.8901960784313725, 0.4666666666666667, 0.7607843137254902)\n",
            "GuardRail -- (0.4980392156862745, 0.4980392156862745, 0.4980392156862745)\n",
            "TrafficLight -- (0.7372549019607844, 0.7411764705882353, 0.13333333333333333)\n",
            "Static -- (0.09019607843137255, 0.7450980392156863, 0.8117647058823529)\n",
            "Dynamic -- (0.12156862745098039, 0.4666666666666667, 0.7058823529411765)\n",
            "Water -- (1.0, 0.4980392156862745, 0.054901960784313725)\n",
            "Terrain -- (0.17254901960784313, 0.6274509803921569, 0.17254901960784313)\n"
          ],
          "name": "stdout"
        }
      ]
    },
    {
      "cell_type": "markdown",
      "metadata": {
        "id": "yO8qxhq27m6N"
      },
      "source": [
        "## Visualization Utilities"
      ]
    },
    {
      "cell_type": "markdown",
      "metadata": {
        "id": "nsJZW1u676Mb"
      },
      "source": [
        "### give_color_to_annotation "
      ]
    },
    {
      "cell_type": "code",
      "metadata": {
        "id": "1urTkgQB79FS"
      },
      "source": [
        "def give_color_to_annotation(annotation):\n",
        "  '''\n",
        "  Converts a 2-D annotation to a numpy array with shape (height, width, 3) where\n",
        "  the third axis represents the color channel. The label values are multiplied by\n",
        "  255 and placed in this axis to give color to the annotation\n",
        "\n",
        "  Args:\n",
        "    annotation (numpy array) - label map array\n",
        "  \n",
        "  Returns:\n",
        "    the annotation array with an additional color channel/axis\n",
        "  '''\n",
        "  seg_img = np.zeros( (annotation.shape[0],annotation.shape[1], 3) ).astype('float')\n",
        "  \n",
        "  for c in range(len(class_names)):\n",
        "    segc = (annotation == c)\n",
        "    seg_img[:,:,0] += segc*( colors[c][0] * 255.0)\n",
        "    seg_img[:,:,1] += segc*( colors[c][1] * 255.0)\n",
        "    seg_img[:,:,2] += segc*( colors[c][2] * 255.0)\n",
        "  \n",
        "  return seg_img"
      ],
      "execution_count": null,
      "outputs": []
    },
    {
      "cell_type": "markdown",
      "metadata": {
        "id": "o71zGPxF8Bcc"
      },
      "source": [
        "### show_predictions"
      ]
    },
    {
      "cell_type": "code",
      "metadata": {
        "id": "fql3mCk38GbT"
      },
      "source": [
        "def show_predictions(image, labelmaps, titles, iou_list, dice_score_list):\n",
        "  '''\n",
        "  Displays the images with the ground truth and predicted label maps\n",
        "\n",
        "  Args:\n",
        "    image (numpy array) -- the input image\n",
        "    labelmaps (list of arrays) -- contains the predicted and ground truth label maps\n",
        "    titles (list of strings) -- display headings for the images to be displayed\n",
        "    iou_list (list of floats) -- the IOU values for each class\n",
        "    dice_score_list (list of floats) -- the Dice Score for each class\n",
        "  '''\n",
        "  pred_img = give_color_to_annotation(labelmaps[0])\n",
        "  true_img = give_color_to_annotation(labelmaps[1])\n",
        "\n",
        "  image = image + 1\n",
        "  image = image * 255\n",
        "  images = np.uint8([image, pred_img, true_img])\n",
        "\n",
        "  plt.figure(figsize=(15, 4))\n",
        "\n",
        "  for idx, im in enumerate(images):\n",
        "    plt.subplot(1, 3, idx+1)\n",
        "    plt.xticks([])\n",
        "    plt.yticks([])\n",
        "    plt.title(titles[idx], fontsize=12)\n",
        "    plt.imshow(im)\n"
      ],
      "execution_count": null,
      "outputs": []
    },
    {
      "cell_type": "markdown",
      "metadata": {
        "id": "vGU3So9STDGx"
      },
      "source": [
        "# Define the Model\n",
        "\n",
        "AS mentioned earlier, a VGG-16 network will be used for the encoder and FCN-8 for the decoder. This is the diagram of the model's architecture:\n",
        "\n",
        "<img src='https://drive.google.com/uc?export=view&id=1lrqB4YegV8jXWNfyYAaeuFlwXIc54aRP' alt='fcn-8'>"
      ]
    },
    {
      "cell_type": "markdown",
      "metadata": {
        "id": "wYb5F7I_lXVZ"
      },
      "source": [
        "### Define Pooling Block of VGG"
      ]
    },
    {
      "cell_type": "code",
      "metadata": {
        "id": "-ADmOwRelYqB"
      },
      "source": [
        "def block(x, n_convs, filters, kernel_size, activation, pool_size, pool_stride, block_name):\n",
        "  '''\n",
        "  Defines a block in the VGG network.\n",
        "\n",
        "  Args:\n",
        "    x (tensor) -- input image\n",
        "    n_convs (int) -- number of convolution layers to append\n",
        "    filters (int) -- number of filters for the convolution layers\n",
        "    activation (string or object) -- activation to use in the convolution\n",
        "    pool_size (int) -- size of the pooling layer\n",
        "    pool_stried (int) -- stride of the pooling layer\n",
        "    block_name (string) -- name of the block\n",
        "\n",
        "  Returns:\n",
        "    tensor containing the max-pooled output of the convolutions\n",
        "  '''\n",
        "\n",
        "  for i in range(n_convs):\n",
        "      x = tf.keras.layers.Conv2D(filters=filters, kernel_size=kernel_size, activation=activation, padding='same', name=\"{}_conv{}\".format(block_name, i + 1))(x)\n",
        "    \n",
        "  x = tf.keras.layers.MaxPooling2D(pool_size=pool_size, strides=pool_stride, name=\"{}_pool{}\".format(block_name, i+1 ))(x)\n",
        "\n",
        "  return x"
      ],
      "execution_count": null,
      "outputs": []
    },
    {
      "cell_type": "markdown",
      "metadata": {
        "id": "mbmarJsqlrxF"
      },
      "source": [
        "## Define VGG-16\n",
        "\n",
        "The encoder is built as shown below. \n",
        "\n",
        "* Create 5 blocks with increasing number of filters at each stage. \n",
        "* The number of convolutions, filters, kernel size, activation, pool size and pool stride will remain constant.\n",
        "* Additional convolution layers will be appended to extract more features.\n",
        "* The output will contain the output of the last layer and the previous four convolution blocks."
      ]
    },
    {
      "cell_type": "code",
      "metadata": {
        "id": "AZ439ca4l6Wt"
      },
      "source": [
        "def VGG_16(image_input):\n",
        "  '''\n",
        "  This function defines the VGG encoder.\n",
        "\n",
        "  Args:\n",
        "    image_input (tensor) - batch of images\n",
        "\n",
        "  Returns:\n",
        "    tuple of tensors - output of all encoder blocks plus the final convolution layer\n",
        "  '''\n",
        "\n",
        "  # create 5 blocks with increasing filters at each stage. \n",
        "  # save the output of each block (i.e. p1, p2, p3, p4, p5). \"p\" stands for the pooling layer.\n",
        "  x = block(image_input,n_convs=2, filters=64, kernel_size=(3,3), activation='relu',pool_size=(2,2), pool_stride=(2,2), block_name='block1')\n",
        "  p1= x\n",
        "\n",
        "  x = block(x,n_convs=2, filters=128, kernel_size=(3,3), activation='relu',pool_size=(2,2), pool_stride=(2,2), block_name='block2')\n",
        "  p2 = x\n",
        "\n",
        "  x = block(x,n_convs=3, filters=256, kernel_size=(3,3), activation='relu',pool_size=(2,2), pool_stride=(2,2), block_name='block3')\n",
        "  p3 = x\n",
        "\n",
        "  x = block(x,n_convs=3, filters=512, kernel_size=(3,3), activation='relu',pool_size=(2,2), pool_stride=(2,2), block_name='block4')\n",
        "  p4 = x\n",
        "\n",
        "  x = block(x,n_convs=3, filters=512, kernel_size=(3,3), activation='relu',pool_size=(2,2), pool_stride=(2,2), block_name='block5')\n",
        "  p5 = x\n",
        "\n",
        "  # number of filters for the output convolutional layers\n",
        "  n = 4096\n",
        "\n",
        "  # the input images are 224x224 pixels so they will be downsampled to 7x7 after the pooling layers above.\n",
        "  # we can extract more features by chaining two more convolution layers.\n",
        "  c6 = tf.keras.layers.Conv2D( n , ( 7 , 7 ) , activation='relu' , padding='same', name=\"conv6\")(p5)\n",
        "  c7 = tf.keras.layers.Conv2D( n , ( 1 , 1 ) , activation='relu' , padding='same', name=\"conv7\")(c6)\n",
        "\n",
        "  # return the outputs at each stage. \n",
        "  return (p1, p2, p3, p4, c7)"
      ],
      "execution_count": null,
      "outputs": []
    },
    {
      "cell_type": "markdown",
      "metadata": {
        "id": "DHRfBHKAmABZ"
      },
      "source": [
        "## Define FCN 8 Decoder"
      ]
    },
    {
      "cell_type": "code",
      "metadata": {
        "id": "ALQ-0vU2mF3V"
      },
      "source": [
        "def fcn8_decoder(convs, n_classes):\n",
        "  '''\n",
        "  Defines the FCN 8 decoder.\n",
        "\n",
        "  Args:\n",
        "    convs (tuple of tensors) - output of the encoder network\n",
        "    n_classes (int) - number of classes\n",
        "\n",
        "  Returns:\n",
        "    tensor with shape (height, width, n_classes) containing class probabilities\n",
        "  '''\n",
        "\n",
        "  # unpack the output of the encoder\n",
        "  f1, f2, f3, f4, f5 = convs\n",
        "  \n",
        "  # upsample the output of the encoder then crop extra pixels that were introduced\n",
        "  o = tf.keras.layers.Conv2DTranspose(n_classes , kernel_size=(4,4) ,  strides=(2,2) , use_bias=False )(f5)\n",
        "  o = tf.keras.layers.Cropping2D(cropping=(1,1))(o)\n",
        "  print(o.shape)\n",
        "\n",
        "  # load the pool 4 prediction and do a 1x1 convolution to reshape it to the same shape of `o` above\n",
        "  o2 = f4\n",
        "  o2 = ( tf.keras.layers.Conv2D(n_classes , ( 1 , 1 ) , activation='relu' , padding='same'))(o2)\n",
        "\n",
        "  # add the results of the upsampling and pool 4 prediction\n",
        "  o = tf.keras.layers.Add()([o, o2])\n",
        "\n",
        "  # upsample the resulting tensor of the previous step\n",
        "  o = (tf.keras.layers.Conv2DTranspose( n_classes , kernel_size=(4,4) ,  strides=(2,2) , use_bias=False ))(o)\n",
        "  o = tf.keras.layers.Cropping2D(cropping=(1, 1))(o)\n",
        "\n",
        "  # load the pool 3 prediction and do a 1x1 convolution to reshape it to the same shape of `o` above\n",
        "  o2 = f3\n",
        "  o2 = ( tf.keras.layers.Conv2D(n_classes , ( 1 , 1 ) , activation='relu' , padding='same'))(o2)\n",
        "\n",
        "  # add the results of the upsampling and pool 3 prediction\n",
        "  o = tf.keras.layers.Add()([o, o2])\n",
        "  \n",
        "  # upsample up to the size of the original image\n",
        "  o = tf.keras.layers.Conv2DTranspose(n_classes , kernel_size=(8,8) ,  strides=(8,8) , use_bias=False )(o)\n",
        "\n",
        "  # append a softmax to get the class probabilities\n",
        "  o = (tf.keras.layers.Activation('softmax'))(o)\n",
        "\n",
        "  return o"
      ],
      "execution_count": null,
      "outputs": []
    },
    {
      "cell_type": "markdown",
      "metadata": {
        "id": "gwt5FUMQmQPI"
      },
      "source": [
        "## Define Final Model\n",
        "\n",
        "The final model is built by connecting the encoder and decoder blocks."
      ]
    },
    {
      "cell_type": "code",
      "metadata": {
        "id": "MjviXEohmXz8"
      },
      "source": [
        "def segmentation_model():\n",
        "  '''\n",
        "  Defines the final segmentation model by chaining together the encoder and decoder.\n",
        "\n",
        "  Returns:\n",
        "    keras Model that connects the encoder and decoder networks of the segmentation model\n",
        "  '''\n",
        "  \n",
        "  inputs = tf.keras.layers.Input(shape=(224,224,3,))\n",
        "  convs = VGG_16(image_input=inputs)\n",
        "  outputs = fcn8_decoder(convs, 23)\n",
        "  model = tf.keras.Model(inputs=inputs, outputs=outputs)\n",
        "  \n",
        "  return model"
      ],
      "execution_count": null,
      "outputs": []
    },
    {
      "cell_type": "code",
      "metadata": {
        "colab": {
          "base_uri": "https://localhost:8080/"
        },
        "id": "YFN_DCaRhJ7c",
        "outputId": "1a9162ea-b1d1-4e05-a126-1d8a8ba61d18"
      },
      "source": [
        "model = segmentation_model()\n",
        "model.summary()"
      ],
      "execution_count": null,
      "outputs": [
        {
          "output_type": "stream",
          "text": [
            "(None, 14, 14, 23)\n",
            "Model: \"model_3\"\n",
            "__________________________________________________________________________________________________\n",
            "Layer (type)                    Output Shape         Param #     Connected to                     \n",
            "==================================================================================================\n",
            "input_4 (InputLayer)            [(None, 224, 224, 3) 0                                            \n",
            "__________________________________________________________________________________________________\n",
            "block1_conv1 (Conv2D)           (None, 224, 224, 64) 1792        input_4[0][0]                    \n",
            "__________________________________________________________________________________________________\n",
            "block1_conv2 (Conv2D)           (None, 224, 224, 64) 36928       block1_conv1[0][0]               \n",
            "__________________________________________________________________________________________________\n",
            "block1_pool2 (MaxPooling2D)     (None, 112, 112, 64) 0           block1_conv2[0][0]               \n",
            "__________________________________________________________________________________________________\n",
            "block2_conv1 (Conv2D)           (None, 112, 112, 128 73856       block1_pool2[0][0]               \n",
            "__________________________________________________________________________________________________\n",
            "block2_conv2 (Conv2D)           (None, 112, 112, 128 147584      block2_conv1[0][0]               \n",
            "__________________________________________________________________________________________________\n",
            "block2_pool2 (MaxPooling2D)     (None, 56, 56, 128)  0           block2_conv2[0][0]               \n",
            "__________________________________________________________________________________________________\n",
            "block3_conv1 (Conv2D)           (None, 56, 56, 256)  295168      block2_pool2[0][0]               \n",
            "__________________________________________________________________________________________________\n",
            "block3_conv2 (Conv2D)           (None, 56, 56, 256)  590080      block3_conv1[0][0]               \n",
            "__________________________________________________________________________________________________\n",
            "block3_conv3 (Conv2D)           (None, 56, 56, 256)  590080      block3_conv2[0][0]               \n",
            "__________________________________________________________________________________________________\n",
            "block3_pool3 (MaxPooling2D)     (None, 28, 28, 256)  0           block3_conv3[0][0]               \n",
            "__________________________________________________________________________________________________\n",
            "block4_conv1 (Conv2D)           (None, 28, 28, 512)  1180160     block3_pool3[0][0]               \n",
            "__________________________________________________________________________________________________\n",
            "block4_conv2 (Conv2D)           (None, 28, 28, 512)  2359808     block4_conv1[0][0]               \n",
            "__________________________________________________________________________________________________\n",
            "block4_conv3 (Conv2D)           (None, 28, 28, 512)  2359808     block4_conv2[0][0]               \n",
            "__________________________________________________________________________________________________\n",
            "block4_pool3 (MaxPooling2D)     (None, 14, 14, 512)  0           block4_conv3[0][0]               \n",
            "__________________________________________________________________________________________________\n",
            "block5_conv1 (Conv2D)           (None, 14, 14, 512)  2359808     block4_pool3[0][0]               \n",
            "__________________________________________________________________________________________________\n",
            "block5_conv2 (Conv2D)           (None, 14, 14, 512)  2359808     block5_conv1[0][0]               \n",
            "__________________________________________________________________________________________________\n",
            "block5_conv3 (Conv2D)           (None, 14, 14, 512)  2359808     block5_conv2[0][0]               \n",
            "__________________________________________________________________________________________________\n",
            "block5_pool3 (MaxPooling2D)     (None, 7, 7, 512)    0           block5_conv3[0][0]               \n",
            "__________________________________________________________________________________________________\n",
            "conv6 (Conv2D)                  (None, 7, 7, 4096)   102764544   block5_pool3[0][0]               \n",
            "__________________________________________________________________________________________________\n",
            "conv7 (Conv2D)                  (None, 7, 7, 4096)   16781312    conv6[0][0]                      \n",
            "__________________________________________________________________________________________________\n",
            "conv2d_transpose_9 (Conv2DTrans (None, 16, 16, 23)   1507328     conv7[0][0]                      \n",
            "__________________________________________________________________________________________________\n",
            "cropping2d_6 (Cropping2D)       (None, 14, 14, 23)   0           conv2d_transpose_9[0][0]         \n",
            "__________________________________________________________________________________________________\n",
            "conv2d_6 (Conv2D)               (None, 14, 14, 23)   11799       block4_pool3[0][0]               \n",
            "__________________________________________________________________________________________________\n",
            "add_6 (Add)                     (None, 14, 14, 23)   0           cropping2d_6[0][0]               \n",
            "                                                                 conv2d_6[0][0]                   \n",
            "__________________________________________________________________________________________________\n",
            "conv2d_transpose_10 (Conv2DTran (None, 30, 30, 23)   8464        add_6[0][0]                      \n",
            "__________________________________________________________________________________________________\n",
            "cropping2d_7 (Cropping2D)       (None, 28, 28, 23)   0           conv2d_transpose_10[0][0]        \n",
            "__________________________________________________________________________________________________\n",
            "conv2d_7 (Conv2D)               (None, 28, 28, 23)   5911        block3_pool3[0][0]               \n",
            "__________________________________________________________________________________________________\n",
            "add_7 (Add)                     (None, 28, 28, 23)   0           cropping2d_7[0][0]               \n",
            "                                                                 conv2d_7[0][0]                   \n",
            "__________________________________________________________________________________________________\n",
            "conv2d_transpose_11 (Conv2DTran (None, 224, 224, 23) 33856       add_7[0][0]                      \n",
            "__________________________________________________________________________________________________\n",
            "activation_3 (Activation)       (None, 224, 224, 23) 0           conv2d_transpose_11[0][0]        \n",
            "==================================================================================================\n",
            "Total params: 135,827,902\n",
            "Trainable params: 135,827,902\n",
            "Non-trainable params: 0\n",
            "__________________________________________________________________________________________________\n"
          ],
          "name": "stdout"
        }
      ]
    },
    {
      "cell_type": "markdown",
      "metadata": {
        "id": "dHPg23Wdmt7z"
      },
      "source": [
        "## Compile the Model"
      ]
    },
    {
      "cell_type": "markdown",
      "metadata": {
        "id": "jaNn7p8xm0BP"
      },
      "source": [
        "Next, the model will be configured for training. The loss, optimizer and metrics are defined. `categorical_crossentropy` is used as the loss function since the label map is transformed to one hot encoded vectors for each pixel in the image (i.e. `1` in one slice and `0` for other slices)."
      ]
    },
    {
      "cell_type": "code",
      "metadata": {
        "id": "xTUXIS0zm059"
      },
      "source": [
        "sgd = tf.keras.optimizers.SGD(learning_rate=0.01, momentum=0.9, nesterov=True)\n",
        "\n",
        "model.compile(loss='categorical_crossentropy',\n",
        "              optimizer=sgd,\n",
        "              metrics=['accuracy'])"
      ],
      "execution_count": null,
      "outputs": []
    },
    {
      "cell_type": "markdown",
      "metadata": {
        "id": "OOtvZwwfm-6x"
      },
      "source": [
        "# Train the model"
      ]
    },
    {
      "cell_type": "code",
      "metadata": {
        "id": "VZtAIku_nFZr",
        "colab": {
          "base_uri": "https://localhost:8080/"
        },
        "outputId": "5b0617c2-54c5-4cd2-fd8c-2b192dd6b824"
      },
      "source": [
        "with tf.device('/device:GPU:0'):\n",
        "# number of training images\n",
        "  train_count = 899\n",
        "\n",
        "# number of validation images\n",
        "  validation_count = 101\n",
        "\n",
        "  EPOCHS = 100\n",
        "\n",
        "  steps_per_epoch = train_count//BATCH_SIZE\n",
        "  validation_steps = validation_count//BATCH_SIZE\n",
        "\n",
        "  es = EarlyStopping(monitor='val_loss', mode='min', verbose=1, patience=50)\n",
        "  history = model.fit(training_dataset,\n",
        "                    steps_per_epoch=steps_per_epoch, validation_data=validation_dataset, validation_steps=validation_steps, epochs=EPOCHS, callbacks=[es])"
      ],
      "execution_count": null,
      "outputs": [
        {
          "output_type": "stream",
          "text": [
            "Epoch 1/100\n",
            "14/14 [==============================] - 18s 1s/step - loss: 3.1354 - accuracy: 0.0518 - val_loss: 3.1353 - val_accuracy: 0.0576\n",
            "Epoch 2/100\n",
            "14/14 [==============================] - 16s 1s/step - loss: 3.1352 - accuracy: 0.0616 - val_loss: 3.1351 - val_accuracy: 0.0630\n",
            "Epoch 3/100\n",
            "14/14 [==============================] - 16s 1s/step - loss: 3.1351 - accuracy: 0.0636 - val_loss: 3.1350 - val_accuracy: 0.0646\n",
            "Epoch 4/100\n",
            "14/14 [==============================] - 13s 962ms/step - loss: 3.1349 - accuracy: 0.0649 - val_loss: 3.1347 - val_accuracy: 0.0655\n",
            "Epoch 5/100\n",
            "14/14 [==============================] - 15s 1s/step - loss: 3.1346 - accuracy: 0.0655 - val_loss: 3.1344 - val_accuracy: 0.0659\n",
            "Epoch 6/100\n",
            "14/14 [==============================] - 14s 1s/step - loss: 3.1343 - accuracy: 0.0656 - val_loss: 3.1340 - val_accuracy: 0.0660\n",
            "Epoch 7/100\n",
            "14/14 [==============================] - 14s 1s/step - loss: 3.1338 - accuracy: 0.0662 - val_loss: 3.1335 - val_accuracy: 0.0676\n",
            "Epoch 8/100\n",
            "14/14 [==============================] - 14s 979ms/step - loss: 3.1331 - accuracy: 0.0688 - val_loss: 3.1325 - val_accuracy: 0.0700\n",
            "Epoch 9/100\n",
            "14/14 [==============================] - 14s 969ms/step - loss: 3.1319 - accuracy: 0.0721 - val_loss: 3.1308 - val_accuracy: 0.0749\n",
            "Epoch 10/100\n",
            "14/14 [==============================] - 14s 980ms/step - loss: 3.1294 - accuracy: 0.0792 - val_loss: 3.1271 - val_accuracy: 0.0834\n",
            "Epoch 11/100\n",
            "14/14 [==============================] - 14s 1s/step - loss: 3.1232 - accuracy: 0.0874 - val_loss: 3.1153 - val_accuracy: 0.0916\n",
            "Epoch 12/100\n",
            "14/14 [==============================] - 14s 1s/step - loss: 3.0910 - accuracy: 0.0990 - val_loss: 3.0196 - val_accuracy: 0.1115\n",
            "Epoch 13/100\n",
            "14/14 [==============================] - 14s 1s/step - loss: 2.7715 - accuracy: 0.1829 - val_loss: 2.3621 - val_accuracy: 0.2332\n",
            "Epoch 14/100\n",
            "14/14 [==============================] - 14s 1s/step - loss: 2.1601 - accuracy: 0.2286 - val_loss: 2.0881 - val_accuracy: 0.2291\n",
            "Epoch 15/100\n",
            "14/14 [==============================] - 14s 1s/step - loss: 2.0359 - accuracy: 0.2666 - val_loss: 2.0411 - val_accuracy: 0.2876\n",
            "Epoch 16/100\n",
            "14/14 [==============================] - 15s 1s/step - loss: 1.9997 - accuracy: 0.3018 - val_loss: 2.0152 - val_accuracy: 0.3045\n",
            "Epoch 17/100\n",
            "14/14 [==============================] - 14s 1s/step - loss: 1.9664 - accuracy: 0.3141 - val_loss: 1.9792 - val_accuracy: 0.3171\n",
            "Epoch 18/100\n",
            "14/14 [==============================] - 14s 1s/step - loss: 1.9215 - accuracy: 0.3269 - val_loss: 1.9235 - val_accuracy: 0.3219\n",
            "Epoch 19/100\n",
            "14/14 [==============================] - 14s 1s/step - loss: 1.8548 - accuracy: 0.3311 - val_loss: 1.8288 - val_accuracy: 0.3263\n",
            "Epoch 20/100\n",
            "14/14 [==============================] - 14s 1s/step - loss: 1.7637 - accuracy: 0.3502 - val_loss: 1.7264 - val_accuracy: 0.3706\n",
            "Epoch 21/100\n",
            "14/14 [==============================] - 14s 1s/step - loss: 1.6249 - accuracy: 0.4424 - val_loss: 1.5074 - val_accuracy: 0.5164\n",
            "Epoch 22/100\n",
            "14/14 [==============================] - 14s 1s/step - loss: 1.3783 - accuracy: 0.5529 - val_loss: 1.1819 - val_accuracy: 0.6177\n",
            "Epoch 23/100\n",
            "14/14 [==============================] - 14s 967ms/step - loss: 1.1546 - accuracy: 0.6213 - val_loss: 1.0684 - val_accuracy: 0.6389\n",
            "Epoch 24/100\n",
            "14/14 [==============================] - 14s 977ms/step - loss: 1.0161 - accuracy: 0.6622 - val_loss: 0.9918 - val_accuracy: 0.6608\n",
            "Epoch 25/100\n",
            "14/14 [==============================] - 14s 976ms/step - loss: 0.9699 - accuracy: 0.6780 - val_loss: 0.9679 - val_accuracy: 0.6750\n",
            "Epoch 26/100\n",
            "14/14 [==============================] - 14s 1s/step - loss: 0.9480 - accuracy: 0.6878 - val_loss: 0.9320 - val_accuracy: 0.6942\n",
            "Epoch 27/100\n",
            "14/14 [==============================] - 14s 1s/step - loss: 0.9024 - accuracy: 0.7063 - val_loss: 0.9045 - val_accuracy: 0.7143\n",
            "Epoch 28/100\n",
            "14/14 [==============================] - 14s 1s/step - loss: 0.8681 - accuracy: 0.7259 - val_loss: 0.8801 - val_accuracy: 0.7205\n",
            "Epoch 29/100\n",
            "14/14 [==============================] - 14s 1s/step - loss: 0.8634 - accuracy: 0.7296 - val_loss: 0.8502 - val_accuracy: 0.7281\n",
            "Epoch 30/100\n",
            "14/14 [==============================] - 14s 1s/step - loss: 0.7974 - accuracy: 0.7510 - val_loss: 0.8230 - val_accuracy: 0.7367\n",
            "Epoch 31/100\n",
            "14/14 [==============================] - 15s 1s/step - loss: 0.7866 - accuracy: 0.7550 - val_loss: 0.8357 - val_accuracy: 0.7179\n",
            "Epoch 32/100\n",
            "14/14 [==============================] - 14s 1s/step - loss: 0.7572 - accuracy: 0.7634 - val_loss: 0.8347 - val_accuracy: 0.7204\n",
            "Epoch 33/100\n",
            "14/14 [==============================] - 14s 1s/step - loss: 0.7556 - accuracy: 0.7605 - val_loss: 0.7661 - val_accuracy: 0.7471\n",
            "Epoch 34/100\n",
            "14/14 [==============================] - 14s 1s/step - loss: 0.7557 - accuracy: 0.7636 - val_loss: 0.7721 - val_accuracy: 0.7385\n",
            "Epoch 35/100\n",
            "14/14 [==============================] - 14s 1s/step - loss: 0.7265 - accuracy: 0.7688 - val_loss: 0.7448 - val_accuracy: 0.7474\n",
            "Epoch 36/100\n",
            "14/14 [==============================] - 14s 1s/step - loss: 0.7440 - accuracy: 0.7660 - val_loss: 0.7445 - val_accuracy: 0.7461\n",
            "Epoch 37/100\n",
            "14/14 [==============================] - 14s 1s/step - loss: 0.7132 - accuracy: 0.7737 - val_loss: 0.7343 - val_accuracy: 0.7477\n",
            "Epoch 38/100\n",
            "14/14 [==============================] - 14s 970ms/step - loss: 0.7045 - accuracy: 0.7744 - val_loss: 0.7240 - val_accuracy: 0.7529\n",
            "Epoch 39/100\n",
            "14/14 [==============================] - 14s 969ms/step - loss: 0.6979 - accuracy: 0.7787 - val_loss: 0.7284 - val_accuracy: 0.7530\n",
            "Epoch 40/100\n",
            "14/14 [==============================] - 14s 981ms/step - loss: 0.6860 - accuracy: 0.7825 - val_loss: 0.7222 - val_accuracy: 0.7511\n",
            "Epoch 41/100\n",
            "14/14 [==============================] - 14s 995ms/step - loss: 0.7011 - accuracy: 0.7787 - val_loss: 0.7159 - val_accuracy: 0.7575\n",
            "Epoch 42/100\n",
            "14/14 [==============================] - 15s 1s/step - loss: 0.6780 - accuracy: 0.7864 - val_loss: 0.7510 - val_accuracy: 0.7463\n",
            "Epoch 43/100\n",
            "14/14 [==============================] - 14s 1s/step - loss: 0.6720 - accuracy: 0.7885 - val_loss: 0.7227 - val_accuracy: 0.7530\n",
            "Epoch 44/100\n",
            "14/14 [==============================] - 14s 1s/step - loss: 0.6618 - accuracy: 0.7915 - val_loss: 0.7170 - val_accuracy: 0.7719\n",
            "Epoch 45/100\n",
            "14/14 [==============================] - 14s 1s/step - loss: 0.6658 - accuracy: 0.7917 - val_loss: 0.7354 - val_accuracy: 0.7589\n",
            "Epoch 46/100\n",
            "14/14 [==============================] - 15s 1s/step - loss: 0.6498 - accuracy: 0.7969 - val_loss: 0.6895 - val_accuracy: 0.7707\n",
            "Epoch 47/100\n",
            "14/14 [==============================] - 14s 1s/step - loss: 0.6680 - accuracy: 0.7898 - val_loss: 0.6887 - val_accuracy: 0.7694\n",
            "Epoch 48/100\n",
            "14/14 [==============================] - 14s 1s/step - loss: 0.6456 - accuracy: 0.7989 - val_loss: 0.7048 - val_accuracy: 0.7661\n",
            "Epoch 49/100\n",
            "14/14 [==============================] - 14s 1s/step - loss: 0.6418 - accuracy: 0.7966 - val_loss: 0.6803 - val_accuracy: 0.7716\n",
            "Epoch 50/100\n",
            "14/14 [==============================] - 14s 1s/step - loss: 0.6691 - accuracy: 0.7927 - val_loss: 0.6880 - val_accuracy: 0.7682\n",
            "Epoch 51/100\n",
            "14/14 [==============================] - 15s 1s/step - loss: 0.6655 - accuracy: 0.7920 - val_loss: 0.6841 - val_accuracy: 0.7700\n",
            "Epoch 52/100\n",
            "14/14 [==============================] - 14s 1s/step - loss: 0.6291 - accuracy: 0.8026 - val_loss: 0.6858 - val_accuracy: 0.7726\n",
            "Epoch 53/100\n",
            "14/14 [==============================] - 14s 974ms/step - loss: 0.6249 - accuracy: 0.8041 - val_loss: 0.6876 - val_accuracy: 0.7702\n",
            "Epoch 54/100\n",
            "14/14 [==============================] - 14s 967ms/step - loss: 0.6493 - accuracy: 0.7984 - val_loss: 0.6909 - val_accuracy: 0.7687\n",
            "Epoch 55/100\n",
            "14/14 [==============================] - 13s 966ms/step - loss: 0.6286 - accuracy: 0.8024 - val_loss: 0.6741 - val_accuracy: 0.7773\n",
            "Epoch 56/100\n",
            "14/14 [==============================] - 14s 1s/step - loss: 0.6232 - accuracy: 0.8039 - val_loss: 0.7074 - val_accuracy: 0.7646\n",
            "Epoch 57/100\n",
            "14/14 [==============================] - 14s 1s/step - loss: 0.6300 - accuracy: 0.8021 - val_loss: 0.6851 - val_accuracy: 0.7723\n",
            "Epoch 58/100\n",
            "14/14 [==============================] - 14s 1s/step - loss: 0.6236 - accuracy: 0.8046 - val_loss: 0.6827 - val_accuracy: 0.7716\n",
            "Epoch 59/100\n",
            "14/14 [==============================] - 14s 1s/step - loss: 0.6109 - accuracy: 0.8085 - val_loss: 0.6666 - val_accuracy: 0.7747\n",
            "Epoch 60/100\n",
            "14/14 [==============================] - 14s 1s/step - loss: 0.6043 - accuracy: 0.8112 - val_loss: 0.6565 - val_accuracy: 0.8010\n",
            "Epoch 61/100\n",
            "14/14 [==============================] - 15s 1s/step - loss: 0.5980 - accuracy: 0.8125 - val_loss: 0.6576 - val_accuracy: 0.7907\n",
            "Epoch 62/100\n",
            "14/14 [==============================] - 14s 1s/step - loss: 0.6138 - accuracy: 0.8090 - val_loss: 0.6725 - val_accuracy: 0.7771\n",
            "Epoch 63/100\n",
            "14/14 [==============================] - 14s 1s/step - loss: 0.6050 - accuracy: 0.8106 - val_loss: 0.6635 - val_accuracy: 0.7873\n",
            "Epoch 64/100\n",
            "14/14 [==============================] - 14s 1s/step - loss: 0.5988 - accuracy: 0.8143 - val_loss: 0.6721 - val_accuracy: 0.7781\n",
            "Epoch 65/100\n",
            "14/14 [==============================] - 14s 1s/step - loss: 0.5931 - accuracy: 0.8156 - val_loss: 0.6679 - val_accuracy: 0.7751\n",
            "Epoch 66/100\n",
            "14/14 [==============================] - 14s 1s/step - loss: 0.5867 - accuracy: 0.8173 - val_loss: 0.6643 - val_accuracy: 0.7777\n",
            "Epoch 67/100\n",
            "14/14 [==============================] - 14s 1s/step - loss: 0.5888 - accuracy: 0.8184 - val_loss: 0.6763 - val_accuracy: 0.7716\n",
            "Epoch 68/100\n",
            "14/14 [==============================] - 14s 979ms/step - loss: 0.5851 - accuracy: 0.8195 - val_loss: 0.6662 - val_accuracy: 0.7784\n",
            "Epoch 69/100\n",
            "14/14 [==============================] - 14s 977ms/step - loss: 0.6034 - accuracy: 0.8136 - val_loss: 0.6657 - val_accuracy: 0.7804\n",
            "Epoch 70/100\n",
            "14/14 [==============================] - 14s 971ms/step - loss: 0.5954 - accuracy: 0.8153 - val_loss: 0.6738 - val_accuracy: 0.7753\n",
            "Epoch 71/100\n",
            "14/14 [==============================] - 14s 1s/step - loss: 0.5743 - accuracy: 0.8221 - val_loss: 0.6663 - val_accuracy: 0.7769\n",
            "Epoch 72/100\n",
            "14/14 [==============================] - 14s 1s/step - loss: 0.5835 - accuracy: 0.8202 - val_loss: 0.6860 - val_accuracy: 0.7683\n",
            "Epoch 73/100\n",
            "14/14 [==============================] - 14s 1s/step - loss: 0.5750 - accuracy: 0.8218 - val_loss: 0.6590 - val_accuracy: 0.7843\n",
            "Epoch 74/100\n",
            "14/14 [==============================] - 14s 1s/step - loss: 0.5712 - accuracy: 0.8247 - val_loss: 0.7075 - val_accuracy: 0.7714\n",
            "Epoch 75/100\n",
            "14/14 [==============================] - 14s 1s/step - loss: 0.5625 - accuracy: 0.8285 - val_loss: 0.8448 - val_accuracy: 0.7601\n",
            "Epoch 76/100\n",
            "14/14 [==============================] - 15s 1s/step - loss: 0.5841 - accuracy: 0.8201 - val_loss: 0.6513 - val_accuracy: 0.7936\n",
            "Epoch 77/100\n",
            "14/14 [==============================] - 14s 1s/step - loss: 0.5707 - accuracy: 0.8253 - val_loss: 0.6588 - val_accuracy: 0.7853\n",
            "Epoch 78/100\n",
            "14/14 [==============================] - 14s 1s/step - loss: 0.5603 - accuracy: 0.8287 - val_loss: 0.6465 - val_accuracy: 0.7953\n",
            "Epoch 79/100\n",
            "14/14 [==============================] - 14s 1s/step - loss: 0.5697 - accuracy: 0.8259 - val_loss: 0.6475 - val_accuracy: 0.7916\n",
            "Epoch 80/100\n",
            "14/14 [==============================] - 15s 1s/step - loss: 0.5523 - accuracy: 0.8317 - val_loss: 0.6615 - val_accuracy: 0.7859\n",
            "Epoch 81/100\n",
            "14/14 [==============================] - 14s 1s/step - loss: 0.5404 - accuracy: 0.8358 - val_loss: 0.6587 - val_accuracy: 0.7916\n",
            "Epoch 82/100\n",
            "14/14 [==============================] - 14s 1s/step - loss: 0.5551 - accuracy: 0.8331 - val_loss: 0.6557 - val_accuracy: 0.7887\n",
            "Epoch 83/100\n",
            "14/14 [==============================] - 14s 970ms/step - loss: 0.5450 - accuracy: 0.8336 - val_loss: 0.6498 - val_accuracy: 0.7908\n",
            "Epoch 84/100\n",
            "14/14 [==============================] - 14s 973ms/step - loss: 0.5620 - accuracy: 0.8295 - val_loss: 0.6296 - val_accuracy: 0.8042\n",
            "Epoch 85/100\n",
            "14/14 [==============================] - 14s 975ms/step - loss: 0.5453 - accuracy: 0.8355 - val_loss: 0.6453 - val_accuracy: 0.7958\n",
            "Epoch 86/100\n",
            "14/14 [==============================] - 14s 996ms/step - loss: 0.5456 - accuracy: 0.8351 - val_loss: 0.6423 - val_accuracy: 0.7982\n",
            "Epoch 87/100\n",
            "14/14 [==============================] - 14s 1s/step - loss: 0.5211 - accuracy: 0.8438 - val_loss: 0.6465 - val_accuracy: 0.7937\n",
            "Epoch 88/100\n",
            "14/14 [==============================] - 14s 1s/step - loss: 0.5233 - accuracy: 0.8435 - val_loss: 0.6504 - val_accuracy: 0.8000\n",
            "Epoch 89/100\n",
            "14/14 [==============================] - 14s 1s/step - loss: 0.5175 - accuracy: 0.8451 - val_loss: 0.6466 - val_accuracy: 0.7990\n",
            "Epoch 90/100\n",
            "14/14 [==============================] - 14s 1s/step - loss: 0.5207 - accuracy: 0.8441 - val_loss: 0.6943 - val_accuracy: 0.7890\n",
            "Epoch 91/100\n",
            "14/14 [==============================] - 15s 1s/step - loss: 0.5180 - accuracy: 0.8455 - val_loss: 0.6442 - val_accuracy: 0.8002\n",
            "Epoch 92/100\n",
            "14/14 [==============================] - 14s 1s/step - loss: 0.5166 - accuracy: 0.8465 - val_loss: 0.6179 - val_accuracy: 0.8133\n",
            "Epoch 93/100\n",
            "14/14 [==============================] - 14s 1s/step - loss: 0.5218 - accuracy: 0.8441 - val_loss: 0.6386 - val_accuracy: 0.8040\n",
            "Epoch 94/100\n",
            "14/14 [==============================] - 14s 1s/step - loss: 0.5061 - accuracy: 0.8485 - val_loss: 0.6307 - val_accuracy: 0.8112\n",
            "Epoch 95/100\n",
            "14/14 [==============================] - 14s 1s/step - loss: 0.5069 - accuracy: 0.8515 - val_loss: 0.6434 - val_accuracy: 0.8072\n",
            "Epoch 96/100\n",
            "14/14 [==============================] - 14s 1s/step - loss: 0.4911 - accuracy: 0.8554 - val_loss: 0.6295 - val_accuracy: 0.8090\n",
            "Epoch 97/100\n",
            "14/14 [==============================] - 14s 1s/step - loss: 0.5986 - accuracy: 0.8289 - val_loss: 0.6696 - val_accuracy: 0.7852\n",
            "Epoch 98/100\n",
            "14/14 [==============================] - 13s 959ms/step - loss: 0.5408 - accuracy: 0.8364 - val_loss: 0.6297 - val_accuracy: 0.8045\n",
            "Epoch 99/100\n",
            "14/14 [==============================] - 14s 970ms/step - loss: 0.5094 - accuracy: 0.8482 - val_loss: 0.6381 - val_accuracy: 0.8043\n",
            "Epoch 100/100\n",
            "14/14 [==============================] - 14s 978ms/step - loss: 0.5011 - accuracy: 0.8508 - val_loss: 0.6332 - val_accuracy: 0.8067\n"
          ],
          "name": "stdout"
        }
      ]
    },
    {
      "cell_type": "code",
      "metadata": {
        "colab": {
          "base_uri": "https://localhost:8080/",
          "height": 592
        },
        "id": "OJu0Q2g-sTO_",
        "outputId": "f5ae7690-24a4-49aa-c8e2-d3688c943137"
      },
      "source": [
        "# list all data in history\n",
        "print(history.history.keys())\n",
        "# summarize history for accuracy\n",
        "plt.plot(history.history['accuracy'])\n",
        "plt.plot(history.history['val_accuracy'])\n",
        "plt.title('model accuracy')\n",
        "plt.ylabel('accuracy')\n",
        "plt.xlabel('epoch')\n",
        "plt.legend(['train', 'test'], loc='upper left')\n",
        "plt.show()\n",
        "# summarize history for loss\n",
        "plt.plot(history.history['loss'])\n",
        "plt.plot(history.history['val_loss'])\n",
        "plt.title('model loss')\n",
        "plt.ylabel('loss')\n",
        "plt.xlabel('epoch')\n",
        "plt.legend(['train', 'test'], loc='upper left')\n",
        "plt.show()"
      ],
      "execution_count": null,
      "outputs": [
        {
          "output_type": "stream",
          "text": [
            "dict_keys(['loss', 'accuracy', 'val_loss', 'val_accuracy'])\n"
          ],
          "name": "stdout"
        },
        {
          "output_type": "display_data",
          "data": {
            "image/png": "[encoded data removed]",
            "text/plain": [
              "<Figure size 432x288 with 1 Axes>"
            ]
          },
          "metadata": {
            "tags": [],
            "needs_background": "light"
          }
        },
        {
          "output_type": "display_data",
          "data": {
            "image/png": "[encoded data removed]",
            "text/plain": [
              "<Figure size 432x288 with 1 Axes>"
            ]
          },
          "metadata": {
            "tags": [],
            "needs_background": "light"
          }
        }
      ]
    },
    {
      "cell_type": "markdown",
      "metadata": {
        "id": "TJfyr9o9-6xY"
      },
      "source": [
        "# Evaluate the Model\n"
      ]
    },
    {
      "cell_type": "code",
      "metadata": {
        "id": "HT4onTC-_AON"
      },
      "source": [
        "def get_images_and_segments_test_arrays():\n",
        "  '''\n",
        "  Gets a subsample of the val set as your test set\n",
        "\n",
        "  Returns:\n",
        "    Test set containing ground truth images and label maps\n",
        "  '''\n",
        "  y_true_segments = []\n",
        "  y_true_images = []\n",
        "  test_count = 64\n",
        "\n",
        "  ds = validation_dataset.unbatch()\n",
        "  ds = ds.batch(101)\n",
        "\n",
        "  for image, annotation in ds.take(1):\n",
        "    y_true_images = image\n",
        "    y_true_segments = annotation\n",
        "\n",
        "\n",
        "  y_true_segments = y_true_segments[:test_count, : ,: , :]\n",
        "  y_true_segments = np.argmax(y_true_segments, axis=3)  \n",
        "\n",
        "  return y_true_images, y_true_segments\n",
        "\n",
        "# load the ground truth images and segmentation masks\n",
        "y_true_images, y_true_segments = get_images_and_segments_test_arrays()"
      ],
      "execution_count": null,
      "outputs": []
    },
    {
      "cell_type": "markdown",
      "metadata": {
        "id": "z1UvGGKI_GbY"
      },
      "source": [
        "### Make Predictions\n",
        "\n",
        "The output of our segmentation model has the shape `(height, width, 23)` where `23` is the number of classes. Each pixel value in those 23 slices indicates the probability of that pixel belonging to that particular class. If you want to create the predicted label map, then you can get the `argmax()` of that axis. This is shown in the following cell."
      ]
    },
    {
      "cell_type": "code",
      "metadata": {
        "id": "WYfhDjH0_LpU"
      },
      "source": [
        "# get the model prediction\n",
        "results = model.predict(validation_dataset, steps=validation_steps)\n",
        "# print(results)\n",
        "# for each pixel, get the slice number which has the highest probability\n",
        "results = np.argmax(results, axis=3)"
      ],
      "execution_count": null,
      "outputs": []
    },
    {
      "cell_type": "markdown",
      "metadata": {
        "id": "_G5qMW56_fC9"
      },
      "source": [
        "## Compute Metrics\n",
        "\n",
        "The function below generates the IOU and dice score of the prediction and ground truth masks.\n",
        "\n",
        "$$IOU = \\frac{area\\_of\\_overlap}{area\\_of\\_union}$$\n",
        "<br>\n",
        "$$Dice Score = 2 * \\frac{area\\_of\\_overlap}{combined\\_area}$$\n",
        "\n",
        "A small smoothening factor is introduced in the denominators to prevent possible division by zero."
      ]
    },
    {
      "cell_type": "code",
      "metadata": {
        "id": "mDDVgimY_gHs"
      },
      "source": [
        "def compute_metrics(y_true, y_pred):\n",
        "  '''\n",
        "  Computes IOU and Dice Score.\n",
        "\n",
        "  Args:\n",
        "    y_true (tensor) - ground truth label map\n",
        "    y_pred (tensor) - predicted label map\n",
        "  '''\n",
        "  \n",
        "  class_wise_iou = []\n",
        "  class_wise_dice_score = []\n",
        "\n",
        "  smoothening_factor = 0.00001\n",
        "\n",
        "  for i in range(len(class_names)):\n",
        "    intersection = np.sum((y_pred == i) * (y_true == i))\n",
        "    y_true_area = np.sum((y_true == i))\n",
        "    y_pred_area = np.sum((y_pred == i))\n",
        "    combined_area = y_true_area + y_pred_area\n",
        "    \n",
        "    iou = (intersection + smoothening_factor) / (combined_area - intersection + smoothening_factor)\n",
        "    class_wise_iou.append(iou)\n",
        "    \n",
        "    dice_score =  2 * ((intersection + smoothening_factor) / (combined_area + smoothening_factor))\n",
        "    class_wise_dice_score.append(dice_score)\n",
        "\n",
        "  return class_wise_iou, class_wise_dice_score"
      ],
      "execution_count": null,
      "outputs": []
    },
    {
      "cell_type": "code",
      "metadata": {
        "id": "pALNzm-PwMdi"
      },
      "source": [
        "print(y_true_segments.shape)\n",
        "print(results.shape)"
      ],
      "execution_count": null,
      "outputs": []
    },
    {
      "cell_type": "markdown",
      "metadata": {
        "id": "L_LdGnSH_owr"
      },
      "source": [
        "## Display Predictions"
      ]
    },
    {
      "cell_type": "code",
      "metadata": {
        "id": "Ycem4DHc_t_Y",
        "colab": {
          "base_uri": "https://localhost:8080/",
          "height": 305
        },
        "outputId": "d5a40994-465d-4eea-86b9-4d96e0bfcfea"
      },
      "source": [
        "# input a number from 0 to 63 to pick an image from the test set\n",
        "integer_slider = 0\n",
        "\n",
        "# compute metrics\n",
        "iou, dice_score = compute_metrics(y_true_segments[integer_slider], results[integer_slider])  \n",
        "print(y_true_segments.shape)\n",
        "print(results.shape)\n",
        "# visualize the output and metrics\n",
        "show_predictions(y_true_images[integer_slider], [results[integer_slider], y_true_segments[integer_slider]], [\"Image\", \"Predicted Mask\", \"True Mask\"], iou, dice_score)"
      ],
      "execution_count": null,
      "outputs": [
        {
          "output_type": "stream",
          "text": [
            "(64, 224, 224)\n",
            "(64, 224, 224)\n"
          ],
          "name": "stdout"
        },
        {
          "output_type": "display_data",
          "data": {
            "image/png": "[encoded data removed]",
            "text/plain": [
              "<Figure size 1080x288 with 3 Axes>"
            ]
          },
          "metadata": {
            "tags": []
          }
        }
      ]
    },
    {
      "cell_type": "code",
      "metadata": {
        "id": "y8aWa6c7uBN2"
      },
      "source": [
        "# compute metrics\n",
        "cls_wise_iou, cls_wise_dice_score = compute_metrics(y_true_segments, results)"
      ],
      "execution_count": null,
      "outputs": []
    },
    {
      "cell_type": "code",
      "metadata": {
        "id": "T6jOvPWVuD3W",
        "colab": {
          "base_uri": "https://localhost:8080/"
        },
        "outputId": "eca9e1b0-0c1e-4b67-a900-35791e4e6be5"
      },
      "source": [
        "# print IOU for each class\n",
        "for idx, iou in enumerate(cls_wise_iou):\n",
        "  spaces = ' ' * (13-len(class_names[idx]) + 2)\n",
        "  print(\"{}{}{} \".format(class_names[idx], spaces, iou))\n"
      ],
      "execution_count": null,
      "outputs": [
        {
          "output_type": "stream",
          "text": [
            "Unlabeled      0.8560664069258076 \n",
            "Building       0.4612891480272302 \n",
            "Fence          0.0015248553079318127 \n",
            "Other          0.010570403069291901 \n",
            "Pedestrian     1.320655043158142e-09 \n",
            "Pole           0.00047265114060385374 \n",
            "RoadLine       0.006776978307047319 \n",
            "Road           0.7869585154351838 \n",
            "SideWalk       0.554930992680911 \n",
            "Vegetation     0.4065443880531571 \n",
            "Vehicles       0.9170820807503895 \n",
            "Wall           0.02337023456038461 \n",
            "TrafficSign    5.030181061216394e-09 \n",
            "Sky            1.0 \n",
            "Ground         1.0 \n",
            "Bridge         1.0 \n",
            "RailTrack      1.0 \n",
            "GuardRail      1.0 \n",
            "TrafficLight   1.0 \n",
            "Static         1.0 \n",
            "Dynamic        1.0 \n",
            "Water          1.0 \n",
            "Terrain        1.0 \n"
          ],
          "name": "stdout"
        }
      ]
    },
    {
      "cell_type": "code",
      "metadata": {
        "id": "HNuEVRpsuFhm",
        "colab": {
          "base_uri": "https://localhost:8080/"
        },
        "outputId": "fc0a0545-63af-4b79-c647-c262d8b89760"
      },
      "source": [
        "# print the dice score for each class\n",
        "for idx, dice_score in enumerate(cls_wise_dice_score):\n",
        "  spaces = ' ' * (13-len(class_names[idx]) + 2)\n",
        "  print(\"{}{}{} \".format(class_names[idx], spaces, dice_score)) "
      ],
      "execution_count": null,
      "outputs": [
        {
          "output_type": "stream",
          "text": [
            "Unlabeled      0.9224523473252594 \n",
            "Building       0.631345478281386 \n",
            "Fence          0.003045067329299454 \n",
            "Other          0.020919676727665346 \n",
            "Pedestrian     2.641310086316284e-09 \n",
            "Pole           0.0009448556944919878 \n",
            "RoadLine       0.013462720055653426 \n",
            "Road           0.8807798375215956 \n",
            "SideWalk       0.7137692866144785 \n",
            "Vegetation     0.5780754471912255 \n",
            "Vehicles       0.9567478512971036 \n",
            "Wall           0.045673078600898795 \n",
            "TrafficSign    1.0060362122432788e-08 \n",
            "Sky            2.0 \n",
            "Ground         2.0 \n",
            "Bridge         2.0 \n",
            "RailTrack      2.0 \n",
            "GuardRail      2.0 \n",
            "TrafficLight   2.0 \n",
            "Static         2.0 \n",
            "Dynamic        2.0 \n",
            "Water          2.0 \n",
            "Terrain        2.0 \n"
          ],
          "name": "stdout"
        }
      ]
    }
  ]
}